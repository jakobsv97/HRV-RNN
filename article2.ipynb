{
 "cells": [
  {
   "cell_type": "code",
   "execution_count": 1,
   "metadata": {},
   "outputs": [],
   "source": [
    "%matplotlib inline\n",
    "from IPython.core.interactiveshell import InteractiveShell\n",
    "InteractiveShell.ast_node_interactivity = \"all\"\n",
    "\n",
    "#Import .fit (Garmin) handling\n",
    "from fitparse import FitFile\n",
    "\n",
    "import os\n",
    "from os import listdir\n",
    "from os.path import isfile, join\n",
    "import pandas as pd\n",
    "import numpy as np\n",
    "import math\n",
    "\n",
    "import matplotlib.pyplot as plt \n",
    "#import ipynb.fit_functions as ffun\n",
    "%run fit_functions.ipynb\n",
    "\n",
    "#Signal processing\n",
    "from scipy import signal\n",
    "from scipy.ndimage import label\n",
    "from scipy.stats import zscore\n",
    "from scipy.interpolate import interp1d\n",
    "from scipy.integrate import trapz\n",
    "\n",
    "#Itertools\n",
    "import itertools\n",
    "\n",
    "#Time\n",
    "import time\n",
    "\n",
    "\n",
    "import json\n",
    "\n",
    "#KERAS AND TENSORFLOW\n",
    "import tensorflow as tf\n",
    "tf.random.set_seed(1234)\n",
    "from keras.models import Sequential\n",
    "from keras.layers import Dense\n",
    "from keras.layers import GRU\n",
    "from keras.layers import LSTM\n",
    "from keras.layers import Dropout\n",
    "from keras.layers import Bidirectional\n",
    "#from keras.preprocessing import timeseries_dataset_from_array\n",
    "from keras.preprocessing.sequence import TimeseriesGenerator\n",
    "from tensorflow.keras.preprocessing import timeseries_dataset_from_array\n",
    "from tensorflow.keras.optimizers import Adam\n",
    "import keras\n",
    "from keras.models import load_model\n",
    "from sklearn.preprocessing import MinMaxScaler\n",
    "\n",
    "#TIMESERIES\n",
    "from numpy.lib.stride_tricks import sliding_window_view\n",
    "\n",
    "#GARBAGE COLLECTOR\n",
    "import gc\n",
    "\n",
    "#os.environ[\"CUDA_VISIBLE_DEVICES\"] = '6'\n",
    "#config = tf.compat.v1.ConfigProto()\n",
    "#config.gpu_options.allow_growth = True\n",
    "#physical_devices = tf.config.experimental.list_physical_devices('GPU')\n",
    "#for physical_device in physical_devices:\n",
    "#    tf.config.experimental.set_memory_growth(physical_device, True)\n",
    "#config.gpu_options.per_process_gpu_memory_fraction = 1\n",
    "#tf.compat.v1.disable_eager_execution()\n"
   ]
  },
  {
   "cell_type": "markdown",
   "metadata": {},
   "source": [
    "tensorflow-macos 2.9.2\n",
    "tensorflow-"
   ]
  },
  {
   "cell_type": "code",
   "execution_count": 2,
   "metadata": {},
   "outputs": [],
   "source": [
    "#path_to_data = '/home/stud/jakobsv/bhome/T2'\n",
    "path_to_data = '/Users/2924467/Documents/PhD-main/Code/T2'"
   ]
  },
  {
   "cell_type": "code",
   "execution_count": 3,
   "metadata": {},
   "outputs": [
    {
     "name": "stdout",
     "output_type": "stream",
     "text": [
      "['50388.FIT', '50808.FIT', '50766.FIT', '50835.FIT', '50821.FIT', '50162.FIT', '50764.FIT', '50599.FIT', '50953.FIT', '50364.FIT', '50229100.FIT', '50300.FIT', '50314.FIT', '50499.FIT', '50880.FIT', '50465.FIT', '50897.FIT', '50539.FIT', '50712.FIT', '50048.FIT', '50305.FIT', '50649.FIT', '50846.FIT', '50503.FIT', '50927.FIT', '50714.FIT', '50847.FIT', '50338.FIT', '50863.FIT', '50493.FIT', '50257.FIT', '50087.FIT', '50497.FIT', '50640.FIT', '50697.FIT', '50286.FIT', '50279.FIT', '50899.FIT', '50342.FIT', '50229093.FIT', '50356.FIT', '50627.FIT', '50355.FIT', '50817.FIT', '50152.FIT', '50998.FIT', '50542.FIT', '50556.FIT', '50972.FIT', '50635.FIT', '50153.FIT', '50409.FIT', '50810.FIT', '50229108.FIT', '50226.FIT', '50965.FIT', '50805.FIT', '50187.FIT', '50434.FIT']\n"
     ]
    }
   ],
   "source": [
    "participant_files = ([f for f in listdir(path_to_data) if isfile(join(path_to_data, f)) \n",
    "                      and not f.startswith('.')]) #Include this to exclude .ds_store file\n",
    "print(participant_files) #This list can be used to determine which participant we are looking at as well"
   ]
  },
  {
   "cell_type": "code",
   "execution_count": 4,
   "metadata": {},
   "outputs": [],
   "source": [
    "\n",
    "def speed_corr(speed):\n",
    "    return speed if isinstance(speed, float) else 0 #To make sure the speed is float. \n",
    "\n",
    "def read_record(rec): #Function to read message-type \"record\" from .fit files. This is the most interesting\n",
    "    global curr_stop\n",
    "    global hrv_timestamp #Define global variable for timestamp to use for the HRV-messages, since these messages lack timestamps.\n",
    "    hrv_timestamp = rec.get_value('timestamp') \n",
    "    if curr_stop == 1 and speed_corr(rec.get_value('speed')) > 2: #If we are at a stop, but have started moving again...\n",
    "        curr_stop = 0 #... then we are not at a stop. \n",
    "    \n",
    "    return (rec.get_value('timestamp'), 1, curr_lap, curr_stop, #Second column is 'type'\n",
    "            rec.get_value('speed'), rec.get_value('enhanced_speed'),\n",
    "            rec.get_value('distance'), rec.get_value('heart_rate'), \n",
    "            rec.get_value('accumulated_power'), rec.get_value('power'), \n",
    "            rec.get_value('position_lat'), rec.get_value('position_long'), \n",
    "            rec.get_value('altitude'), rec.get_value('enhanced_altitude'), \n",
    "            rec.get_value('cadence'), rec.get_value('factional_cadence'), \n",
    "            rec.get_value('left_right_balance'), rec.get_value('left_torque_effectiveness'), \n",
    "            rec.get_value('right_torque_effectiveness'), rec.get_value('left_pedal_smoothness'), \n",
    "            rec.get_value('right_pedal_smoothness'), rec.get_value('temperature'), np.NaN) #Last column is HRV\n",
    "\n",
    "def read_lap(rec): #Function to read message-type \"lap\" from .fit files. \n",
    "    global curr_lap #Variable to show which lap we are at\n",
    "    global curr_stop #Variable to show if we are at a stop or not\n",
    "    curr_lap += 1\n",
    "    curr_stop = 1\n",
    "    return (rec.get_value('timestamp'), 2, curr_lap, curr_stop, np.NaN, np.NaN, rec.get_value('total_distance'), np.NaN, np.NaN, \n",
    "            np.NaN, np.NaN, np.NaN, np.NaN, np.NaN, np.NaN, np.NaN, np.NaN, \n",
    "            np.NaN, np.NaN, np.NaN, np.NaN, np.NaN, np.NaN)\n",
    "\n",
    "def read_hrv(rec): \n",
    "    return (hrv_timestamp, 3, np.NaN, np.NaN, np.NaN, np.NaN, np.NaN, np.NaN, np.NaN, \n",
    "            np.NaN, np.NaN, np.NaN, np.NaN, np.NaN, np.NaN, np.NaN, np.NaN, \n",
    "            np.NaN, np.NaN, np.NaN, np.NaN, np.NaN, list(filter(None,rec.get_value('time')))) #rec.get_value('time'))\n",
    "\n",
    "fitgen_cols = ['timestamp', 'type', 'lap', 'stop', 'speed', 'enhanced_speed', 'distance', 'heart_rate', \n",
    "               'accumulated_power', 'power', 'position_lat', 'position_long', \n",
    "               'altitude', 'enhanced_altitude', 'cadence', 'factional_cadence', \n",
    "               'left_right_balnce', 'left_torque_effectiveness', 'right_torque_effectiveness', \n",
    "               'left_pedal_smoothness', 'right_pedal_smoothness', 'temperature', 'hrv'] #Column names for dataframe\n",
    "\n",
    "#initialize 'begin' and 'end' as empty timestamps\n",
    "start = pd.Timestamp(2020, 1, 1, 12) #Unreasonably high starting point to fit with if-sentence later\n",
    "end = pd.Timestamp(2016, 1, 1, 12) #Unreasonably low ending point to fit with if-sentence later\n",
    "\n",
    "all_dfs = [] #List of all dataframes for all persons\n",
    "all_stops = [] #List of dataframe for all stop messages for all persons\n",
    "all_hrv = [] #List of hrv data for all persons\n",
    "\n",
    "for participant_file in participant_files: #For every person\n",
    "    \n",
    "    \n",
    "    fitfile = FitFile(path_to_data + '/'+participant_file) \n",
    "    \n",
    "    #print(participant_file, 'start')\n",
    "    \n",
    "    curr_lap = 0 #Initialize current lap to zero\n",
    "    curr_stop = 0 #Initialize current stop to zero\n",
    "    hrv_timestamp = start #Initialize hrv_timestamp to start timestamp\n",
    "    \n",
    "    \n",
    "    fitgen = (read_record(rec) if rec.name=='record' else (read_lap(rec) if rec.name == 'lap' else read_hrv(rec))\n",
    "          for rec in fitfile.get_messages(['record', 'lap', 'hrv'])) #Extracts the data and saves it in 'fitgen' based on the type of message (record/lap/hrv).\n",
    "    \n",
    "    \n",
    "\n",
    "     \n",
    "         \n",
    "    \n",
    "    #print(participant_file, 'read')\n",
    "    \n",
    "    part_df = pd.DataFrame(fitgen, columns=fitgen_cols) #Converts the data of the current participant to a pandas dataframe.\n",
    "    all_dfs.append(part_df[part_df['type']==1].set_index('timestamp')) #Appends part_df to all_df. Sets the index column to the timestamp column, this is based on the value of 'type' (1-record, 2-stop, 3-hrv) in the message. \n",
    "    all_stops.append(part_df[part_df['type']==2].set_index('timestamp')) #Appends part_df to all_stops. Sets the index column to the timestamp column, this is based on the value of 'type' (1-record, 2-stop, 3-hrv) in the message.\n",
    "    all_hrv.append(part_df[part_df['type']==3].set_index('timestamp')) #Appends part_df to all_hrv. Sets the index column to the timestamp column, this is based on the value of 'type' (1-record, 2-stop, 3-hrv) in the message.\n",
    "    \n",
    "    \n",
    "    #if all_dfs[-1].index[0]<start: start = all_dfs[-1].index[0] #If the variable 'start' is bigger than the first timestamp, redefine 'start'. Calculated for the last participant (index -1)\n",
    "    #if all_dfs[-1].index[-1]>end: end = all_dfs[-1].index[-1] #If the variable 'end' is smaller than the last timestamp, redefine 'end'. Calculated for the last participant (index -1)\n",
    "    #\n",
    "    #if all_hrv[-1].index[0]<start: start = all_hrv[-1].index[0] #If the variable 'start' is bigger than the first timestamp, redefine 'start'. Calculated for the last participant (index -1)\n",
    "    #if all_hrv[-1].index[-1]>end: end = all_hrv[-1].index[-1] #If the variable 'end' is smaller than the last timestamp, redefine 'end'. Calculated for the last participant (index -1)\n",
    "    \n",
    "    start = all_dfs[-1].index[0]\n",
    "    end = all_dfs[-1].index[-1]\n",
    "    \n",
    "    \n",
    "    #print(participant_file, 'converted')\n",
    "\n",
    "    new_index = pd.date_range(start=start, end=end, freq='s') #Create timeseries dataframe with one second between each new row.\n",
    "    all_dfs[-1] = all_dfs[-1].reindex(new_index)\n",
    "#new_index = pd.date_range(start=start, end=end, freq='s') #Create timeseries dataframe with one second between each new row.\n",
    "#for i in range(len(all_dfs)): #regular for loop without counter doesn't work\n",
    "    #all_dfs[i] = all_dfs[i].reindex(new_index) #Places NA/NaN in locations having no value in the previous dataframe\n",
    "    \n",
    "    \n",
    "\n",
    "    \n",
    "new_hrv = [] #Initialize new list of hrv-dataframes (this way we dont have to run the entire code for every tweak)\n",
    "master_dfs = [] #Initialize master dataframe\n",
    "for i in range(len(all_hrv)):\n",
    "    new_hrv.append(all_hrv[i]['hrv']) #.replace([np.NaN, np.NaN, np.NaN, np.NaN, np.NaN], np.NaN)) #Remove all hrv-lists with only NaN-values\n",
    "    new_hrv[i] = all_hrv[i][~all_hrv[i].index.duplicated(keep='first')] #Only want one hrv-list for each timestamp. Assume the first instance is adequate.\n",
    "    master_dfs.append(all_dfs[i].copy()) #Create new master dataframe\n",
    "    master_dfs[i]['hrv']=new_hrv[i]['hrv'] #Add hrv-data to master dataframe\n",
    "\n",
    "#Create a dictionary for master_dfs, so that the dataframes can be accessed by string as well\n",
    "master_dict = {}\n",
    "for i in range(len(master_dfs)):\n",
    "    master_dict[participant_files[i]] = master_dfs[i]\n",
    "\n",
    "#Dictionary for all_stops\n",
    "stops_dict = {}\n",
    "for i in range(len(all_stops)):\n",
    "    stops_dict[participant_files[i]] = all_stops[i]\n"
   ]
  },
  {
   "cell_type": "code",
   "execution_count": 5,
   "metadata": {},
   "outputs": [],
   "source": [
    "\n",
    "#PREPARE DATA FOR RECURRENT NEURAL NETWORK\n",
    "\n",
    "def prepare_data(num_train, num_val, sampling_rate, sequence_length, batch_size, pers):\n",
    "    \n",
    "    num_train_samples = int(num_train*len(pers))\n",
    "    num_val_samples = int(num_val*len(pers))\n",
    "    num_test_samples = len(pers) - num_train_samples - num_val_samples\n",
    "\n",
    "    train_dataset = TimeseriesGenerator(\n",
    "        data = pers,\n",
    "        targets = pers,\n",
    "        sampling_rate=sampling_rate,\n",
    "        length=sequence_length,\n",
    "        shuffle=False,\n",
    "        batch_size=batch_size,\n",
    "        start_index=0,\n",
    "        end_index=num_train_samples)\n",
    "\n",
    "    val_dataset = TimeseriesGenerator(\n",
    "        data = pers,\n",
    "        targets = pers,\n",
    "        sampling_rate=sampling_rate,\n",
    "        length=sequence_length,\n",
    "        shuffle=False,\n",
    "        batch_size=batch_size,\n",
    "        start_index=num_train_samples,\n",
    "        end_index = num_train_samples+num_val_samples)\n",
    "\n",
    "   \n",
    "\n",
    "    test_dataset = TimeseriesGenerator(\n",
    "            data = pers,\n",
    "            targets = pers,\n",
    "            sampling_rate=sampling_rate,\n",
    "            length=sequence_length,\n",
    "            shuffle=False,\n",
    "            batch_size=batch_size,\n",
    "            start_index=num_train_samples+num_val_samples)\n",
    "        \n",
    "    return train_dataset, val_dataset, test_dataset\n",
    "\n",
    "        #for samples, targets in test_persset:\n",
    "        #print(samples)\n",
    "        #print(targets)\n",
    "\n",
    "\n",
    "def prepare_prediction(pers, sequence_length, sampling_rate, batch_size):\n",
    "    pred = TimeseriesGenerator(\n",
    "        data = pers,\n",
    "        targets = pers,\n",
    "        sampling_rate=sampling_rate,\n",
    "        length=sequence_length,\n",
    "        shuffle=False,\n",
    "        batch_size=batch_size)\n",
    "    \n",
    "    return pred\n"
   ]
  },
  {
   "cell_type": "code",
   "execution_count": 6,
   "metadata": {},
   "outputs": [],
   "source": [
    "def create_dataset(dataset, sequence_length,sampling_rate,n_forecast):\n",
    "    dataX, dataY = [], []\n",
    "    for i in range(len(dataset)-sequence_length*sampling_rate-n_forecast+1):\n",
    "        a = dataset[i:(i+sequence_length*sampling_rate):sampling_rate]\n",
    "        dataX.append(a)\n",
    "        dataY.append(dataset[i + sequence_length*sampling_rate-(sampling_rate-1):i + sequence_length*sampling_rate+n_forecast-(sampling_rate-1)])\n",
    "    return np.array(dataX), np.array(dataY)"
   ]
  },
  {
   "cell_type": "markdown",
   "metadata": {},
   "source": [
    "I think timeseries_dataset_from_array does not work properly in tensorflow 2.3 (which is what gorina6 is). Its seems that in tensorflow 2.3, the function requires the data and target to be of the same length, which does not really make sense."
   ]
  },
  {
   "cell_type": "markdown",
   "metadata": {},
   "source": [
    "MAKE HOMEMADE VERSION OF timeseries_dataset_from_array FOR WHEN RUNNING ON GPUs"
   ]
  },
  {
   "cell_type": "code",
   "execution_count": 7,
   "metadata": {},
   "outputs": [],
   "source": [
    "def homemade_slide(pers,n_forecast):\n",
    "    out = np.zeros([len(pers)-n_forecast+1,n_forecast])\n",
    "    for i in range(len(pers)-n_forecast+1):\n",
    "        slide = pers[i:i+n_forecast]\n",
    "        out[i] = slide\n",
    "    return out\n",
    "\n",
    "def prepare_data2(num_train, num_val, sampling_rate, sequence_length, batch_size, pers, n_forecast):\n",
    "    \n",
    "    num_train_samples = int(num_train*len(pers))\n",
    "    num_val_samples = int(num_val*len(pers))\n",
    "    num_test_samples = len(pers) - num_train_samples - num_val_samples\n",
    "\n",
    "\n",
    "    target = homemade_slide(pers,n_forecast)\n",
    "\n",
    "\n",
    "    train_dataset = timeseries_dataset_from_array(\n",
    "        data = pers,\n",
    "        targets = target[(sequence_length-1)*sampling_rate+1:],\n",
    "        sampling_rate=sampling_rate,\n",
    "        sequence_length=sequence_length,\n",
    "        shuffle=False,\n",
    "        batch_size=batch_size,\n",
    "        start_index=0,\n",
    "        end_index=num_train_samples)\n",
    "\n",
    "    val_dataset = timeseries_dataset_from_array(\n",
    "        data = pers,\n",
    "        targets = target[(sequence_length-1)*sampling_rate+1:],\n",
    "        sampling_rate=sampling_rate,\n",
    "        sequence_length=sequence_length,\n",
    "        shuffle=False,\n",
    "        batch_size=batch_size,\n",
    "        start_index=num_train_samples,\n",
    "        end_index = num_train_samples+num_val_samples)\n",
    "\n",
    "   \n",
    "\n",
    "    test_dataset = timeseries_dataset_from_array(\n",
    "            data = pers,\n",
    "            targets = target[(sequence_length-1)*sampling_rate+1:],\n",
    "            sampling_rate=sampling_rate,\n",
    "            sequence_length=sequence_length,\n",
    "            shuffle=False,\n",
    "            batch_size=batch_size,\n",
    "            start_index=num_train_samples+num_val_samples,\n",
    "            #end_index = int(len(pers)-n_forecast)\n",
    "            )\n",
    "\n",
    "        \n",
    "    return train_dataset, val_dataset, test_dataset\n",
    "\n",
    "def prepare_prediction2(pers,sampling_rate, sequence_length, batch_size, n_forecast):\n",
    "    \n",
    "    target = homemade_slide(pers,n_forecast)\n",
    "    \n",
    "    pred = timeseries_dataset_from_array(\n",
    "        data = pers,\n",
    "        targets = target[(sequence_length-1)*sampling_rate+1:],\n",
    "        sampling_rate=sampling_rate,\n",
    "        sequence_length=sequence_length,\n",
    "        shuffle=False,\n",
    "        batch_size=batch_size,\n",
    "    )\n",
    "\n",
    "    return pred\n"
   ]
  },
  {
   "cell_type": "markdown",
   "metadata": {},
   "source": [
    "Expected data and targets to have the same number of time steps (axis 0) but got shape(data) = (871,); shape(targets) = (857, 10).')"
   ]
  },
  {
   "cell_type": "code",
   "execution_count": 8,
   "metadata": {},
   "outputs": [],
   "source": [
    "def interpolate(rr_manual):\n",
    "    #Interpolate\n",
    "    x = np.cumsum(rr_manual) #In seconds\n",
    "    f = interp1d(x, rr_manual*1000, kind='cubic') #In milliseconds\n",
    "\n",
    "    fs = 4.0 #Sample frequency\n",
    "    steps = 1 / fs\n",
    "\n",
    "    # now we can sample from interpolation function\n",
    "    xx = np.arange(x[0], np.max(x), steps)\n",
    "    rr_interpolated = f(xx)\n",
    "    return rr_interpolated\n",
    "\n",
    "def frequency_domain(rri, fs=4):\n",
    "    # Estimate the spectral density using Welch's method\n",
    "    fxx, pxx = signal.welch(x=rri, fs=fs)\n",
    "    \n",
    "    '''\n",
    "    Segement found frequencies in the bands \n",
    "     - Very Low Frequency (VLF): 0-0.04Hz \n",
    "     - Low Frequency (LF): 0.04-0.15Hz \n",
    "     - High Frequency (HF): 0.15-0.4Hz\n",
    "    '''\n",
    "    cond_vlf = (fxx >= 0) & (fxx < 0.04)\n",
    "    cond_lf = (fxx >= 0.04) & (fxx < 0.15)\n",
    "    cond_hf = (fxx >= 0.15) & (fxx < 0.4)\n",
    "    \n",
    "    # calculate power in each band by integrating the spectral density \n",
    "    vlf = trapz(pxx[cond_vlf], fxx[cond_vlf])\n",
    "    lf = trapz(pxx[cond_lf], fxx[cond_lf])\n",
    "    hf = trapz(pxx[cond_hf], fxx[cond_hf])\n",
    "    \n",
    "    # sum these up to get total power\n",
    "    total_power = vlf + lf + hf\n",
    "\n",
    "    return vlf, lf, hf, total_power\n",
    "\n",
    "def hrv_metric(rr):\n",
    "    rr = np.array([rr])\n",
    "    rr = rr.reshape(-1)\n",
    "\n",
    "    # RMSSD: take the square root of the mean square of the differences\n",
    "    rmssd = np.sqrt(np.mean(np.square(np.diff(rr*1000)))) #Need the data to be in milliseconds, therefore rr*1000\n",
    "\n",
    "    # SDNN\n",
    "    sdnn = np.std(rr*1000) #Need the data to be in milliseconds, therefore rr*1000\n",
    "\n",
    "    try:\n",
    "        rr_interpolated = interpolate(rr)\n",
    "\n",
    "        vlf, lf, hf, total_power = frequency_domain(rr_interpolated,4)\n",
    "    except:\n",
    "        vlf, lf, hf, total_power = 'error','error','error','error'\n",
    "        \n",
    "    return rmssd, sdnn, vlf, lf, hf, total_power\n",
    "    #return rmssd, sdnn\n",
    "\n",
    "def cubic_spline(rr,start_hole,pred_length):\n",
    "\n",
    "    time_rr = np.cumsum(rr)\n",
    "    \n",
    "    x1 = time_rr[start_hole-2]\n",
    "    x2 = time_rr[start_hole-1]\n",
    "    x3 = time_rr[start_hole+pred_length]\n",
    "    x4 = time_rr[start_hole+pred_length+1]\n",
    "    \n",
    "    y1 = rr[start_hole-2]\n",
    "    y2 = rr[start_hole-1]\n",
    "    y3 = rr[start_hole+pred_length]\n",
    "    y4 = rr[start_hole+pred_length]\n",
    "\n",
    "    x = np.array([x1,x2,x3,x4])\n",
    "    f = interp1d(x, [y1,y2,y3,y4], kind='cubic') #In milliseconds\n",
    "\n",
    "    # now we can sample from interpolation function\n",
    "    xx = np.linspace(x2, x3,pred_length+2)\n",
    "    rr_interpolated = f(xx)\n",
    "    return rr_interpolated"
   ]
  },
  {
   "cell_type": "code",
   "execution_count": 9,
   "metadata": {},
   "outputs": [],
   "source": [
    "source_data = []\n",
    "source_data.append(np.array(np.sum(master_dict['50087.FIT']['hrv'].loc['20180609101500':'20180609102000'].values)))\n",
    "source_data.append(np.array(np.sum(master_dict['50152.FIT']['hrv'].loc['20180609101340':'20180609101630'].values)))\n",
    "source_data.append(np.array(np.sum(master_dict['50153.FIT']['hrv'].loc['20180609092800':'20180609093230'].values)))\n",
    "#source_data.append(np.array(np.sum(master_dict['50229093.FIT']['hrv'].loc['20180609100300':'20180609100420'].values)))\n",
    "source_data.append(np.array(np.sum(master_dict['50229100.FIT']['hrv'].loc['20180609085620':'20180609090220'].values)))\n",
    "source_data.append(np.array(np.sum(master_dict['50229108.FIT']['hrv'].loc['20180609102220':'20180609102840'].values)))\n",
    "source_data.append(np.array(np.sum(master_dict['50279.FIT']['hrv'].loc['20180609104345':'20180609104550'].values)))\n",
    "source_data.append(np.array(np.sum(master_dict['50286.FIT']['hrv'].loc['20180609092945':'20180609093650'].values)))\n",
    "source_data.append(np.array(np.sum(master_dict['50300.FIT']['hrv'].loc['20180609104000':'20180609104800'].values)))\n",
    "source_data.append(np.array(np.sum(master_dict['50338.FIT']['hrv'].loc['20180609104000':'20180609104420'].values)))\n",
    "source_data.append(np.array(np.sum(master_dict['50364.FIT']['hrv'].loc['20180609105100':'20180609105620'].values)))\n",
    "source_data.append(np.array(np.sum(master_dict['50434.FIT']['hrv'].loc['20180609080920':'20180609081140'].values)))\n",
    "#source_data.append(np.array(np.sum(master_dict['50493.FIT']['hrv'].loc['20180609100850':'20180609101000'].values)))\n",
    "source_data.append(np.array(np.sum(master_dict['50503.FIT']['hrv'].loc['20180609082830':'20180609083220'].values)))\n",
    "source_data.append(np.array(np.sum(master_dict['50539.FIT']['hrv'].loc['20180609095000':'20180609095740'].values)))\n",
    "source_data.append(np.array(np.sum(master_dict['50635.FIT']['hrv'].loc['20180609082850':'20180609083230'].values)))\n",
    "source_data.append(np.array(np.sum(master_dict['50764.FIT']['hrv'].loc['20180609101520':'20180609102000'].values)))\n",
    "source_data.append(np.array(np.sum(master_dict['50805.FIT']['hrv'].loc['20180609093450':'20180609093940'].values)))\n",
    "source_data.append(np.array(np.sum(master_dict['50808.FIT']['hrv'].loc['20180609085930':'20180609090410'].values)))\n",
    "source_data.append(np.array(np.sum(master_dict['50817.FIT']['hrv'].loc['20180609085630':'20180609090010'].values)))\n",
    "source_data.append(np.array(np.sum(master_dict['50821.FIT']['hrv'].loc['20180609083330':'20180609083620'].values)))\n",
    "source_data.append(np.array(np.sum(master_dict['50835.FIT']['hrv'].loc['20180609082740':'20180609083300'].values)))\n",
    "source_data.append(np.array(np.sum(master_dict['50846.FIT']['hrv'].loc['20180609092340':'20180609092830'].values)))\n",
    "source_data.append(np.array(np.sum(master_dict['50899.FIT']['hrv'].loc['20180609085040':'20180609085410'].values)))\n",
    "source_data.append(np.array(np.sum(master_dict['50965.FIT']['hrv'].loc['20180609082520':'20180609082930'].values)))"
   ]
  },
  {
   "cell_type": "code",
   "execution_count": 10,
   "metadata": {},
   "outputs": [
    {
     "data": {
      "text/plain": [
       "array(['x001_POLAR.csv', 'x002_POLAR.csv', 'x003_POLAR.csv',\n",
       "       'x004_POLAR.csv', 'x005_POLAR.csv', 'x006_POLAR.csv',\n",
       "       'x007_POLAR.csv', 'x008_POLAR.csv', 'x009_POLAR.csv',\n",
       "       'x010_POLAR.csv', 'x011_POLAR.csv', 'x012_POLAR.csv',\n",
       "       'x013_POLAR.csv'], dtype='<U14')"
      ]
     },
     "execution_count": 10,
     "metadata": {},
     "output_type": "execute_result"
    }
   ],
   "source": [
    "phys_path = '/Users/2924467/Documents/PhD-main/Code/Physionet/'\n",
    "phys_files = ([f for f in listdir(phys_path) if isfile(join(phys_path, f)) \n",
    "                      and not f.startswith('.')]) #Include this to exclude .ds_store file\n",
    "phys_files = np.sort(phys_files)\n",
    "phys_files\n",
    "\n",
    "phys_data = []\n",
    "for part in phys_files:\n",
    "    res_df = pd.read_csv(phys_path + part,sep=\",\")\n",
    "    idx = res_df.loc[res_df['[Params]']=='[HRData]'].index[-1]\n",
    "    idx+=1\n",
    "    physionet = res_df.iloc[idx:-1].astype(int).values\n",
    "    physionet = (physionet.reshape(-1))/1000\n",
    "    phys_data.append(physionet)\n",
    "\n",
    "physio_data = []\n",
    "physio_data.append(phys_data[0][4822:5491]) \n",
    "physio_data.append(phys_data[1][3823:4661])\n",
    "physio_data.append(phys_data[2][3798:4533])\n",
    "physio_data.append(phys_data[3][2299:2997]) \n",
    "physio_data.append(phys_data[4][2634:3320]) \n",
    "physio_data.append(phys_data[6][1810:2485]) \n",
    "physio_data.append(phys_data[7][4075:4778]) \n",
    "physio_data.append(phys_data[8][2222:2886]) \n",
    "physio_data.append(phys_data[9][2543:3281]) \n",
    "physio_data.append(phys_data[10][2724:3482])\n",
    "physio_data.append(phys_data[11][2211:2890]) \n",
    "physio_data.append(phys_data[12][3918:4671]) \n"
   ]
  },
  {
   "cell_type": "code",
   "execution_count": 11,
   "metadata": {},
   "outputs": [],
   "source": [
    "#CUSTOM LOSS FUNCTION\n",
    "import keras.backend as K\n",
    "\n",
    "#RMSSD\n",
    "def rmssd_loss(y_true, y_pred):\n",
    "    true = K.sqrt(K.mean(K.square(y_true[1:,:]-y_true[:-1,:])))\n",
    "    pred = K.sqrt(K.mean(K.square(y_pred[1:,:]-y_pred[:-1,:])))\n",
    "    loss = K.sqrt(K.mean(K.square(true-pred)))\n",
    "    return loss\n",
    "\n",
    "#DTW\n",
    "class DtwLoss(keras.losses.Loss):\n",
    "    def __init__(self, batch_size: int = 32):\n",
    "        super(DtwLoss, self).__init__()\n",
    "        self.batch_size = batch_size\n",
    "\n",
    "    def call(self, y_true, y_pred):\n",
    "        tmp = []\n",
    "        for item in range(self.batch_size):\n",
    "            s = y_true[item, :]\n",
    "            t = y_pred[item, :]\n",
    "            n, m = len(s), len(t)\n",
    "            dtw_matrix = []\n",
    "            for i in range(n + 1):\n",
    "                line = []\n",
    "                for j in range(m + 1):\n",
    "                    if i == 0 and j == 0:\n",
    "                        line.append(0)\n",
    "                    else:\n",
    "                        line.append(np.inf)\n",
    "                dtw_matrix.append(line)\n",
    "\n",
    "            for i in range(1, n + 1):\n",
    "                for j in range(1, m + 1):\n",
    "                    cost = tf.abs(s[i - 1] - t[j - 1])\n",
    "                    last_min = tf.reduce_min([dtw_matrix[i - 1][j], dtw_matrix[i][j - 1], dtw_matrix[i - 1][j - 1]])\n",
    "                    dtw_matrix[i][j] = tf.cast(cost, dtype=tf.float32) + tf.cast(last_min, dtype=tf.float32)\n",
    "\n",
    "            temp = []\n",
    "            for i in range(len(dtw_matrix)):\n",
    "                temp.append(tf.stack(dtw_matrix[i]))\n",
    "\n",
    "            tmp.append(tf.stack(temp)[n, m])\n",
    "        return tf.reduce_mean(tmp)"
   ]
  },
  {
   "cell_type": "markdown",
   "metadata": {},
   "source": [
    "What do we want to do:\n",
    "- Recurrent neural network\n",
    "- Start with bidirectionality\n",
    "- Then include transfer learning\n",
    "\n",
    "Make it from scratch. "
   ]
  },
  {
   "cell_type": "markdown",
   "metadata": {},
   "source": [
    "We can have to types of predictions:\n",
    "- Single shot prediction. In this case the last Dense layer needs as many output units as number of points we want to predict. One drawback is that the number of predicted points need to be determined before training the model. \n",
    "- Rolling prediction. Use last prediction as input for next prediction. "
   ]
  },
  {
   "cell_type": "code",
   "execution_count": 26,
   "metadata": {},
   "outputs": [
    {
     "data": {
      "text/plain": [
       "True"
      ]
     },
     "execution_count": 26,
     "metadata": {},
     "output_type": "execute_result"
    }
   ],
   "source": [
    "import wandb\n",
    "from wandb.keras import WandbCallback\n",
    "wandb.login()\n",
    "\n",
    "#DEFINE SWEEP METHOD\n",
    "sweep_config = {\n",
    "    'method':'grid'\n",
    "}\n",
    "\n",
    "#DEFINE METRICS\n",
    "metric = {\n",
    "    'name':'val_loss',\n",
    "    'goal':'minimize'\n",
    "}\n",
    "\n",
    "#DEFINE PARAMETERS\n",
    "parameters_dict = {\n",
    "    'number_layers': {\n",
    "        'values':[6]\n",
    "    },\n",
    "    'units': {\n",
    "        'values': [1024]\n",
    "        },\n",
    "    'sequence_length': {\n",
    "        'values':[50]\n",
    "    },\n",
    "    'sampling_rate': {\n",
    "        'values':[2]\n",
    "    },\n",
    "    'dropout': {\n",
    "          'values': [0.0]\n",
    "        },\n",
    "    'batch_size':{\n",
    "        'values': [1]\n",
    "    },\n",
    "    'learning_rate':{\n",
    "        'values':[0.0015]\n",
    "    },\n",
    "    'epochs':{\n",
    "        'values':[100]\n",
    "    },\n",
    "    'train_samples':{\n",
    "        'values':[0.5]\n",
    "    },\n",
    "    'error_function':{\n",
    "        'values':['RMSE']\n",
    "    },\n",
    "    'differencing':{\n",
    "        'values':['YES']\n",
    "    },\n",
    "    'network':{\n",
    "        'values':['GRU']\n",
    "    },\n",
    "    'len_test':{\n",
    "        'values':[0.3]\n",
    "    },\n",
    "    'patience':{\n",
    "        'values':[10]\n",
    "    },\n",
    "    'bidir':{\n",
    "        'values':['YES']\n",
    "    },\n",
    "    'n_forecast':{\n",
    "        'values':[10]\n",
    "    },\n",
    "    'hole_length':{\n",
    "        'values':[10]\n",
    "    }\n",
    "}\n",
    "\n",
    "\n",
    "\n",
    "sweep_config['parameters'] = parameters_dict\n",
    "sweep_config['metric'] = metric\n",
    "\n"
   ]
  },
  {
   "cell_type": "markdown",
   "metadata": {},
   "source": [
    "DTW ERROR FUNCTION TAKES FOREVER TO RUN, IN PARTICULAR WITH BIDIRECTIONAL LAYERS"
   ]
  },
  {
   "cell_type": "code",
   "execution_count": 28,
   "metadata": {},
   "outputs": [],
   "source": [
    "def predict(data_org, test, scaler, model_name, config,run, rolling):\n",
    "\n",
    "    \n",
    "    #GET PARAMETERS\n",
    "    error_function = config['error_function']\n",
    "    train_samples = config['train_samples']\n",
    "    len_test = config['len_test']\n",
    "    val_samples = 1-train_samples-len_test\n",
    "    diff = config['differencing']\n",
    "    n_forecast = config['n_forecast']\n",
    "    hole_length = config['hole_length']\n",
    "    sampling_rate=config[\"sampling_rate\"]\n",
    "    sequence_length=config[\"sequence_length\"]\n",
    "    batch_size = int(config[\"batch_size\"]*len(data_org))\n",
    "\n",
    "\n",
    "    #LOAD MODEL\n",
    "    if error_function == 'RMSE':\n",
    "        best_model = keras.models.load_model('article2/' + model_name  + '.h5',compile=False) #Need compile=False for it to work\n",
    "\n",
    "    if error_function =='DTW':\n",
    "        best_model = keras.models.load_model('article2/' + model_name  + '.h5',custom_objects={'DtwLoss':DtwLoss}, compile=False) #Need compile=False for it to work\n",
    "\n",
    "\n",
    "    \n",
    "\n",
    "    #GET ORIGINAL DATA WITH IMPUTED VALUES\n",
    "    true_vals = test.copy()\n",
    "    final_pred = true_vals.copy()\n",
    "    start_hole = int(len(final_pred)/2)\n",
    "\n",
    "\n",
    "    #IF DIFFERENCE\n",
    "    if diff == 'YES':\n",
    "        final_pred = np.diff(final_pred)\n",
    "        start_hole = start_hole - 1 #Hole starts one before when differencing\n",
    "\n",
    "\n",
    "\n",
    "    ###ROLLING PREDICTION###\n",
    "    if rolling == 'YES':\n",
    "        for i in range(n_forecast):\n",
    "            \n",
    "            #SCALE INPUT DATA\n",
    "            input_data = final_pred.copy()\n",
    "            input_data = input_data.reshape(len(final_pred),1)\n",
    "            input_data = scaler.transform(input_data)\n",
    "            input_data = input_data.reshape(len(final_pred))\n",
    "            \n",
    "            #PREPARE PREDICTION\n",
    "            X_test,Y_test = create_dataset(input_data[:start_hole+i+1],sequence_length,sampling_rate,1)\n",
    "            #pred_gen = prepare_prediction(input_data[:start_hole+i+1],sequence_length,sampling_rate, batch_size) #Feed final_pred up to the point start_hole (and then next point when i increases)\n",
    "\n",
    "            #PREDICT\n",
    "            predictions = best_model.predict(X_test,verbose=0)\n",
    "            #predictions = best_model.predict(pred_gen) #Length of predictions will be shorter than final_pred due to sequence_length (meaning the first few values are not included in targets)\n",
    "            \n",
    "            #UNSCALE PREDICTION\n",
    "            predictions = scaler.inverse_transform(predictions)\n",
    "            predictions = predictions.reshape(len(predictions))\n",
    "            \n",
    "            #ADD PREDICTION TO final_pred\n",
    "            final_pred[start_hole + i] = predictions[-1].copy() #Last value of prediction is the value we are after, since prepare_prediction is fed only up to this value\n",
    "\n",
    "\n",
    "    ###MIX PREDICTION n_forecast MUST BE 2 HERE\n",
    "    elif rolling=='MIX':\n",
    "        for i in range(5):\n",
    "            input_data = final_pred.reshape(-1,1).copy()\n",
    "            input_data = scaler.transform(input_data)\n",
    "            input_data = input_data.reshape(-1)\n",
    "            X_test,Y_test = create_dataset(input_data[:start_hole+n_forecast + i*n_forecast],sequence_length,sampling_rate,n_forecast)\n",
    "            #pred_gen = prepare_prediction2(input_data[:start_hole+n_forecast],sampling_rate,sequence_length,batch_size,n_forecast) #Since n_forecast is minimum 1 here, we dont need the +1.\n",
    "\n",
    "\n",
    "            predictions = best_model.predict(X_test,verbose=0)\n",
    "            #predictions = best_model.predict(pred_gen)\n",
    "            predictions = scaler.inverse_transform(predictions)\n",
    "            predictions = predictions.reshape(-1)\n",
    "\n",
    "            print(predictions[-n_forecast:])\n",
    "\n",
    "\n",
    "            final_pred[start_hole+i*2:start_hole+n_forecast+i*n_forecast] = predictions[-n_forecast:].copy()\n",
    "\n",
    "    \n",
    "    \n",
    "    ###SINGLE-SHOT PREDICTION###\n",
    "    else:\n",
    "\n",
    "        input_data = final_pred.reshape(-1,1).copy()\n",
    "        input_data = scaler.transform(input_data)\n",
    "        input_data = input_data.reshape(-1)\n",
    "        X_test,Y_test = create_dataset(input_data[:start_hole+n_forecast],sequence_length,sampling_rate,n_forecast)\n",
    "        #pred_gen = prepare_prediction2(input_data[:start_hole+n_forecast],sampling_rate,sequence_length,batch_size,n_forecast) #Since n_forecast is minimum 1 here, we dont need the +1.\n",
    "\n",
    "\n",
    "        predictions = best_model.predict(X_test,verbose=0)\n",
    "        #predictions = best_model.predict(pred_gen)\n",
    "        predictions = scaler.inverse_transform(predictions)\n",
    "        predictions = predictions.reshape(-1)\n",
    "\n",
    "\n",
    "        final_pred[start_hole:start_hole+n_forecast] = predictions[-n_forecast:]\n",
    "\n",
    "\n",
    "\n",
    "    #FINAL PREDICTIONS IF THE DATA WERE DIFFERENCED\n",
    "    if diff == 'YES':\n",
    "        start_hole +=1\n",
    "        preds = true_vals.copy()\n",
    "        preds[1:start_hole+hole_length] = true_vals[0].copy() + np.cumsum(final_pred[:start_hole-1+hole_length]) #preds will start the hole one index before final_pred, since final_pred is differenced and preds is not.\n",
    "        final_pred = preds.copy()\n",
    "\n",
    "    \n",
    "    #GET TRUE METRIC VALUES AND SAVE THEM IN WANDB\n",
    "    true_rmssd, true_sdnn, true_vlf, true_lf, true_hf, true_total_power = hrv_metric(true_vals)\n",
    "    wandb.run.summary['TRUE RMSSD'] = true_rmssd\n",
    "    wandb.run.summary['TRUE SDNN'] = true_sdnn\n",
    "    wandb.run.summary['TRUE VLF'] = true_vlf\n",
    "    wandb.run.summary['TRUE LF'] = true_lf\n",
    "    wandb.run.summary['TRUE HF'] = true_hf\n",
    "    wandb.run.summary['TRUE TOTAL POWER'] = true_total_power\n",
    "\n",
    "    #ROLLING PREDICTION SAVE IN WANDB\n",
    "    if rolling == 'YES':\n",
    "        #MAKE ARRAY OF PREDICTED VALUES\n",
    "        pred_lengths = [1,3,5,7,10]\n",
    "        for pred_length in pred_lengths:\n",
    "            \n",
    "            #GET ORIGINAL DATA WITH IMPUTED VALUES FOR VARIOUS HOLE SIZES (pred_length)\n",
    "            rolling_prediction = true_vals.copy()\n",
    "            rolling_prediction[:start_hole+pred_length] = final_pred[:start_hole+pred_length].copy()\n",
    "            \n",
    "            #GET METRICS\n",
    "            rmssd, sdnn, vlf, lf, hf, total_power = hrv_metric(rolling_prediction)\n",
    "        \n",
    "\n",
    "            #SAVE METRICS IN WANDB\n",
    "            hole_name = str(pred_length)\n",
    "            wandb.run.summary[hole_name + 'RMSSD'] = rmssd\n",
    "            wandb.run.summary[hole_name + 'SDNN'] = sdnn\n",
    "            wandb.run.summary[hole_name + 'VLF'] = vlf\n",
    "            wandb.run.summary[hole_name + 'LF'] = lf\n",
    "            wandb.run.summary[hole_name + 'HF'] = hf\n",
    "            wandb.run.summary[hole_name + 'TOTAL POWER'] = total_power\n",
    "\n",
    "            #SAVE ERROR IN METRICS IN WANDB\n",
    "            wandb.run.summary[hole_name + 'err_RMSSD'] = np.abs(rmssd-true_rmssd)/true_rmssd\n",
    "            wandb.run.summary[hole_name + 'err_SDNN'] = np.abs(sdnn-true_sdnn)/true_sdnn\n",
    "            wandb.run.summary[hole_name + 'err_VLF'] = np.abs(vlf-true_vlf)/true_vlf\n",
    "            wandb.run.summary[hole_name + 'err_LF'] = np.abs(lf-true_lf)/true_lf\n",
    "            wandb.run.summary[hole_name + 'err_HF'] = np.abs(hf-true_hf)/true_hf\n",
    "            wandb.run.summary[hole_name + 'err_TOTAL POWER'] = np.abs(total_power-true_total_power)/true_total_power\n",
    "\n",
    "            #CALCULATE CUBIC INTERPOLATION AND SAVE IN WANDB \n",
    "            rr_cubic = true_vals.copy()\n",
    "            cubic_inter = cubic_spline(rr_cubic,start_hole,pred_length)\n",
    "            rr_cubic[start_hole:start_hole+pred_length] = cubic_inter[1:-1].copy()\n",
    "            cub_rmssd, cub_sdnn, cub_vlf, cub_lf, cub_hf, cub_total_power = hrv_metric(rr_cubic)\n",
    "            \n",
    "            wandb.run.summary[hole_name + 'CUB RMSSD'] = cub_rmssd\n",
    "            wandb.run.summary[hole_name + 'CUB SDNN'] = cub_sdnn\n",
    "            wandb.run.summary[hole_name + 'CUB VLF'] = cub_vlf\n",
    "            wandb.run.summary[hole_name + 'CUB LF'] = cub_lf\n",
    "            wandb.run.summary[hole_name + 'CUB HF'] = cub_hf\n",
    "            wandb.run.summary[hole_name + 'CUB TOTAL POWER'] = cub_total_power\n",
    "            wandb.run.summary[hole_name + 'cub_err_RMSSD'] = np.abs(cub_rmssd-true_rmssd)/true_rmssd\n",
    "            wandb.run.summary[hole_name + 'cub_err_SDNN'] = np.abs(cub_sdnn-true_sdnn)/true_sdnn\n",
    "            wandb.run.summary[hole_name + 'cub_err_VLF'] = np.abs(cub_vlf-true_vlf)/true_vlf\n",
    "            wandb.run.summary[hole_name + 'cub_err_LF'] = np.abs(cub_lf-true_lf)/true_lf\n",
    "            wandb.run.summary[hole_name + 'cub_err_HF'] = np.abs(cub_hf-true_hf)/true_hf\n",
    "            wandb.run.summary[hole_name + 'cub_err_TOTAL POWER'] = np.abs(cub_total_power-true_total_power)/true_total_power\n",
    "\n",
    "        \n",
    "\n",
    "    else:\n",
    "        #GET PREDICTED VALUES FOR METRICS\n",
    "        rmssd, sdnn, vlf, lf, hf, total_power = hrv_metric(final_pred)\n",
    "        hole_name = str(hole_length)\n",
    "        wandb.run.summary[hole_name + 'RMSSD'] = rmssd\n",
    "        wandb.run.summary[hole_name + 'SDNN'] = sdnn\n",
    "        wandb.run.summary[hole_name + 'VLF'] = vlf\n",
    "        wandb.run.summary[hole_name + 'LF'] = lf\n",
    "        wandb.run.summary[hole_name + 'HF'] = hf\n",
    "        wandb.run.summary[hole_name + 'TOTAL POWER'] = total_power\n",
    "\n",
    "\n",
    "\n",
    "        wandb.run.summary[hole_name + 'err_RMSSD'] = np.abs(rmssd-true_rmssd)/true_rmssd\n",
    "        wandb.run.summary[hole_name + 'err_SDNN'] = np.abs(sdnn-true_sdnn)/true_sdnn\n",
    "        wandb.run.summary[hole_name + 'err_VLF'] = np.abs(vlf-true_vlf)/true_vlf\n",
    "        wandb.run.summary[hole_name + 'err_LF'] = np.abs(lf-true_lf)/true_lf\n",
    "        wandb.run.summary[hole_name + 'err_HF'] = np.abs(hf-true_hf)/true_hf\n",
    "        wandb.run.summary[hole_name + 'err_TOTAL POWER'] = np.abs(total_power-true_total_power)/true_total_power\n",
    "\n",
    "\n",
    "\n",
    "\n",
    "        #CALCULATE CUBIC INTERPOLATION AND SAVE IN WANDB \n",
    "        rr_cubic = true_vals.copy()\n",
    "        cubic_inter = cubic_spline(rr_cubic,start_hole,hole_length)\n",
    "        rr_cubic[start_hole:start_hole+hole_length] = cubic_inter[1:-1].copy()\n",
    "        cub_rmssd, cub_sdnn, cub_vlf, cub_lf, cub_hf, cub_total_power = hrv_metric(rr_cubic)\n",
    "\n",
    "        \n",
    "        wandb.run.summary[hole_name + 'CUB RMSSD'] = cub_rmssd\n",
    "        wandb.run.summary[hole_name + 'CUB SDNN'] = cub_sdnn\n",
    "        wandb.run.summary[hole_name + 'CUB VLF'] = cub_vlf\n",
    "        wandb.run.summary[hole_name + 'CUB LF'] = cub_lf\n",
    "        wandb.run.summary[hole_name + 'CUB HF'] = cub_hf\n",
    "        wandb.run.summary[hole_name + 'CUB TOTAL POWER'] = cub_total_power\n",
    "        wandb.run.summary[hole_name + 'cub_err_RMSSD'] = np.abs(cub_rmssd-true_rmssd)/true_rmssd\n",
    "        wandb.run.summary[hole_name + 'cub_err_SDNN'] = np.abs(cub_sdnn-true_sdnn)/true_sdnn\n",
    "        wandb.run.summary[hole_name + 'cub_err_VLF'] = np.abs(cub_vlf-true_vlf)/true_vlf\n",
    "        wandb.run.summary[hole_name + 'cub_err_LF'] = np.abs(cub_lf-true_lf)/true_lf\n",
    "        wandb.run.summary[hole_name + 'cub_err_HF'] = np.abs(cub_hf-true_hf)/true_hf\n",
    "        wandb.run.summary[hole_name + 'cub_err_TOTAL POWER'] = np.abs(cub_total_power-true_total_power)/true_total_power\n",
    "\n",
    "        \n",
    "\n",
    "    \n",
    "\n",
    "    #SAVE ACTUAL AND PREDICTED VALUES AS WELL WHEN MIX CHANGE n_forecast TO 10\n",
    "    wandb.run.summary['pred_vals'] = np.round(final_pred[start_hole:start_hole+hole_length].copy(), decimals=3)\n",
    "    wandb.run.summary['true_vals'] = true_vals[start_hole:start_hole+hole_length].copy()\n",
    "    rmse = np.sqrt(np.mean((final_pred[start_hole:start_hole+hole_length]-true_vals[start_hole:start_hole+hole_length])**2))\n",
    "    wandb.run.summary['pred_RMSE'] = rmse\n",
    "\n"
   ]
  },
  {
   "cell_type": "code",
   "execution_count": 24,
   "metadata": {},
   "outputs": [],
   "source": [
    "def train_function():\n",
    "\n",
    "    #MARK DATA AS GLOBAL\n",
    "    global target_data\n",
    "    global person_nr\n",
    "\n",
    "    #INITIALIZE RUN\n",
    "    name = 'seq_' + 'person' + str(person_nr)\n",
    "    run = wandb.init(name=name) #project=\"Article1_Sweeps\", entity=\"jakobsv\") #Resume=True\n",
    "    config = wandb.config\n",
    "\n",
    "\n",
    "    data = target_data.copy()\n",
    "    data_org = target_data.copy()\n",
    "\n",
    "    #DEFINE SWEEP PARAMETERS\n",
    "    layers = config[\"number_layers\"]\n",
    "    units = config[\"units\"]\n",
    "    learning_rate = config[\"learning_rate\"]\n",
    "    dropout = config[\"dropout\"]\n",
    "    epochs = config[\"epochs\"]\n",
    "\n",
    "    train_samples = config[\"train_samples\"]\n",
    "    len_test = config['len_test']\n",
    "    val_samples = 1-train_samples-len_test\n",
    "    sampling_rate=config[\"sampling_rate\"]\n",
    "    sequence_length=config[\"sequence_length\"]\n",
    "    batch_size = int(config[\"batch_size\"]*len(data))\n",
    "    error_function = config[\"error_function\"]\n",
    "    diff = config[\"differencing\"]\n",
    "    network = config['network']\n",
    "    patience = config['patience']\n",
    "\n",
    "\n",
    "    #HOW MANY POINTS TO PREDICT\n",
    "    n_forecast = config['n_forecast']\n",
    "\n",
    "    #OPTIONS\n",
    "    bidir = config['bidir'] #Must be NO when rolling is YES\n",
    "    rolling = 'NO' # YES or NO or MIX\n",
    "\n",
    "    #GET SET SIZES\n",
    "    train_size = int(train_samples*len(data))\n",
    "    val_size = int(val_samples*len(data))\n",
    "    test = data[train_size+val_size:].copy()\n",
    "\n",
    "    #GET ONE MINUTE DATA\n",
    "    #time = np.cumsum(data[:train_size + val_size])\n",
    "    #a = np.where(time<=time[-1]-60)\n",
    "    #b = a[-1][-1]\n",
    "    #data = data[b:train_size+val_size]\n",
    "    #train_size = int(0.7*len(data))\n",
    "    #val_size = int(0.3*len(data))\n",
    "\n",
    "\n",
    "\n",
    "    #DIFFERENCE\n",
    "    if diff ==  'YES':\n",
    "        data = np.diff(data)\n",
    "\n",
    "\n",
    "    data = data.reshape(-1,1)\n",
    "    scaler = MinMaxScaler(feature_range=(0, 1))\n",
    "    scaler = scaler.fit(data)\n",
    "    data = scaler.transform(data)\n",
    "    data = data.reshape(-1)\n",
    "\n",
    "    #SPLIT DATA\n",
    "    \n",
    "    train = data[:train_size].copy()\n",
    "    val = data[train_size:train_size+val_size].copy()\n",
    "\n",
    "\n",
    "\n",
    "\n",
    "\n",
    "\n",
    "    inputs = keras.Input(shape=(sequence_length,1)) #First value in shape is length of each series, and second value is number of features\n",
    "    x = inputs\n",
    "\n",
    "\n",
    "    if bidir == 'YES':\n",
    "        if network=='GRU':\n",
    "            for layer in range(layers):\n",
    "                x = keras.layers.Bidirectional(GRU(units=units,return_sequences=True))(x)\n",
    "                x = keras.layers.Dropout(dropout)(x)\n",
    "            x = keras.layers.Bidirectional(GRU(units=units,return_sequences=False))(x)\n",
    "        else:\n",
    "            for layer in range(layers):\n",
    "                x = keras.layers.Bidirectional(LSTM(units=units,return_sequences=True))(x)\n",
    "                x = keras.layers.Dropout(dropout)(x)\n",
    "            x = keras.layers.Bidirectional(LSTM(units=units,return_sequences=False))(x)\n",
    "\n",
    "    if bidir == 'NO':\n",
    "        if network=='GRU':\n",
    "            for layer in range(layers):\n",
    "                x = keras.layers.GRU(units=units,return_sequences=True)(x)\n",
    "                x = keras.layers.Dropout(dropout)(x)\n",
    "            x = keras.layers.GRU(units=units,return_sequences=False)(x)\n",
    "        else:\n",
    "            for layer in range(layers):\n",
    "                x = keras.layers.LSTM(units=units,return_sequences=True)(x)\n",
    "                x = keras.layers.Dropout(dropout)(x)\n",
    "            x = keras.layers.LSTM(units=units,return_sequences=False)(x)\n",
    "\n",
    "\n",
    "    x = keras.layers.Dropout(dropout)(x)\n",
    "\n",
    "    if rolling == 'YES':\n",
    "        X_train, Y_train = create_dataset(train,sequence_length,sampling_rate,1)\n",
    "        X_val, Y_val = create_dataset(val,sequence_length,sampling_rate,1)\n",
    "        #train_dataset, val_dataset, test_dataset = prepare_data(train_samples, val_samples, sampling_rate, sequence_length, batch_size, data)\n",
    "        print('We are rolling')\n",
    "        outputs = keras.layers.Dense(1)(x) #With rolling prediction we only want one output (last step)\n",
    "\n",
    "    else:\n",
    "        X_train, Y_train = create_dataset(train,sequence_length,sampling_rate,n_forecast)\n",
    "        X_val, Y_val = create_dataset(val,sequence_length,sampling_rate,n_forecast)\n",
    "        #train_dataset, val_dataset, test_dataset = prepare_data2(train_samples, val_samples, sampling_rate, sequence_length, batch_size, data, n_forecast)\n",
    "        print('Single-shot')\n",
    "        outputs = keras.layers.Dense(1*n_forecast)(x) #When using single-shot output (multistep output), we need as many outputs as points we want to predict. If several features we need to multiply by features (I think)\n",
    "\n",
    "\n",
    "    model = keras.Model(inputs=inputs, outputs=outputs)\n",
    "\n",
    "    optimizer = keras.optimizers.Adam(learning_rate=learning_rate)\n",
    "    early_stop = keras.callbacks.EarlyStopping(monitor=\"val_loss\", patience=patience) #Stop when overfitting validation set, works well with 10. Stop when the validation loss is not improving after # epochs\n",
    "\n",
    "    model_name = 'model'\n",
    "    model_check = keras.callbacks.ModelCheckpoint('article2/' + model_name + '.h5',save_best_only=True, monitor=\"val_loss\") #Save best model based on \"monitor\"\n",
    "    callbacks = [model_check, early_stop,WandbCallback(save_model=False,save_graph=False)] #We dont need to save the models in wandb\n",
    "\n",
    "    \n",
    "    if error_function == 'RMSE':\n",
    "        model.compile(optimizer=optimizer, loss='mean_squared_error')\n",
    "\n",
    "\n",
    "    if error_function == 'DTW':\n",
    "        #Batch_size must be 1 with DTW\n",
    "        model.compile(optimizer=optimizer, loss=DtwLoss(batch_size=1))\n",
    "\n",
    "\n",
    "\n",
    "    model.fit(X_train,Y_train,epochs=epochs, validation_data=(X_val,Y_val),callbacks=callbacks, shuffle=False, verbose=0)\n",
    "\n",
    "    predict(data_org, test,scaler, model_name, config,run,rolling)\n",
    "\n",
    "    K.clear_session()\n",
    "    gc.collect()\n",
    "    \n",
    "\n",
    "    #FINISH RUN\n",
    "    run.finish()\n",
    "\n"
   ]
  },
  {
   "cell_type": "markdown",
   "metadata": {},
   "source": [
    "BEFORE RUNNING:\n",
    "\n",
    "Make sure that rolling='NO' when using Bidirectional layers"
   ]
  },
  {
   "cell_type": "code",
   "execution_count": 15,
   "metadata": {},
   "outputs": [
    {
     "name": "stdout",
     "output_type": "stream",
     "text": [
      "174.4\n",
      "84.0\n",
      "121.4\n",
      "186.8\n",
      "186.0\n",
      "65.2\n",
      "209.20000000000002\n",
      "238.8\n",
      "140.4\n",
      "149.4\n",
      "69.0\n",
      "95.4\n",
      "235.20000000000002\n",
      "99.60000000000001\n",
      "130.0\n",
      "155.60000000000002\n",
      "151.4\n",
      "124.60000000000001\n",
      "87.2\n",
      "185.8\n",
      "160.60000000000002\n",
      "107.0\n",
      "130.20000000000002\n"
     ]
    }
   ],
   "source": [
    "for i in source_data:\n",
    "    print(len(i)*0.2)"
   ]
  },
  {
   "cell_type": "code",
   "execution_count": 27,
   "metadata": {},
   "outputs": [
    {
     "name": "stdout",
     "output_type": "stream",
     "text": [
      "Create sweep with ID: 5jtkso60\n",
      "Sweep URL: https://wandb.ai/jakobsv/Paper1_tests/sweeps/5jtkso60\n"
     ]
    },
    {
     "name": "stderr",
     "output_type": "stream",
     "text": [
      "wandb: Agent Starting Run: 2fu4f6tg with config:\n",
      "wandb: \tbatch_size: 1\n",
      "wandb: \tbidir: YES\n",
      "wandb: \tdifferencing: YES\n",
      "wandb: \tdropout: 0\n",
      "wandb: \tepochs: 100\n",
      "wandb: \terror_function: RMSE\n",
      "wandb: \thole_length: 10\n",
      "wandb: \tlearning_rate: 0.0015\n",
      "wandb: \tlen_test: 0.3\n",
      "wandb: \tn_forecast: 10\n",
      "wandb: \tnetwork: GRU\n",
      "wandb: \tnumber_layers: 6\n",
      "wandb: \tpatience: 10\n",
      "wandb: \tsampling_rate: 2\n",
      "wandb: \tsequence_length: 50\n",
      "wandb: \ttrain_samples: 0.5\n",
      "wandb: \tunits: 1024\n"
     ]
    },
    {
     "data": {
      "text/html": [
       "Tracking run with wandb version 0.13.5"
      ],
      "text/plain": [
       "<IPython.core.display.HTML object>"
      ]
     },
     "metadata": {},
     "output_type": "display_data"
    },
    {
     "data": {
      "text/html": [
       "Run data is saved locally in <code>/Users/2924467/Documents/PhD-main/Code/wandb/run-20221119_152512-2fu4f6tg</code>"
      ],
      "text/plain": [
       "<IPython.core.display.HTML object>"
      ]
     },
     "metadata": {},
     "output_type": "display_data"
    },
    {
     "data": {
      "text/html": [
       "Syncing run <strong><a href=\"https://wandb.ai/jakobsv/Paper1_tests/runs/2fu4f6tg\" target=\"_blank\">seq_person0</a></strong> to <a href=\"https://wandb.ai/jakobsv/Paper1_tests\" target=\"_blank\">Weights & Biases</a> (<a href=\"https://wandb.me/run\" target=\"_blank\">docs</a>)<br/>Sweep page:  <a href=\"https://wandb.ai/jakobsv/Paper1_tests/sweeps/5jtkso60\" target=\"_blank\">https://wandb.ai/jakobsv/Paper1_tests/sweeps/5jtkso60</a>"
      ],
      "text/plain": [
       "<IPython.core.display.HTML object>"
      ]
     },
     "metadata": {},
     "output_type": "display_data"
    },
    {
     "name": "stdout",
     "output_type": "stream",
     "text": [
      "Single-shot\n"
     ]
    },
    {
     "name": "stderr",
     "output_type": "stream",
     "text": [
      "2022-11-19 15:25:30.853846: I tensorflow/core/grappler/optimizers/custom_graph_optimizer_registry.cc:113] Plugin optimizer for device_type GPU is enabled.\n",
      "2022-11-19 15:25:32.853632: I tensorflow/core/grappler/optimizers/custom_graph_optimizer_registry.cc:113] Plugin optimizer for device_type GPU is enabled.\n",
      "2022-11-19 15:25:32.867425: I tensorflow/core/grappler/optimizers/custom_graph_optimizer_registry.cc:113] Plugin optimizer for device_type GPU is enabled.\n",
      "2022-11-19 15:25:33.203479: I tensorflow/core/grappler/optimizers/custom_graph_optimizer_registry.cc:113] Plugin optimizer for device_type GPU is enabled.\n",
      "2022-11-19 15:25:33.221533: I tensorflow/core/grappler/optimizers/custom_graph_optimizer_registry.cc:113] Plugin optimizer for device_type GPU is enabled.\n",
      "2022-11-19 15:25:34.576158: I tensorflow/core/grappler/optimizers/custom_graph_optimizer_registry.cc:113] Plugin optimizer for device_type GPU is enabled.\n",
      "2022-11-19 15:25:34.592596: I tensorflow/core/grappler/optimizers/custom_graph_optimizer_registry.cc:113] Plugin optimizer for device_type GPU is enabled.\n",
      "2022-11-19 15:25:34.985644: I tensorflow/core/grappler/optimizers/custom_graph_optimizer_registry.cc:113] Plugin optimizer for device_type GPU is enabled.\n",
      "2022-11-19 15:25:35.001979: I tensorflow/core/grappler/optimizers/custom_graph_optimizer_registry.cc:113] Plugin optimizer for device_type GPU is enabled.\n",
      "2022-11-19 15:25:35.425109: I tensorflow/core/grappler/optimizers/custom_graph_optimizer_registry.cc:113] Plugin optimizer for device_type GPU is enabled.\n",
      "2022-11-19 15:25:35.439175: I tensorflow/core/grappler/optimizers/custom_graph_optimizer_registry.cc:113] Plugin optimizer for device_type GPU is enabled.\n",
      "2022-11-19 15:25:35.840224: I tensorflow/core/grappler/optimizers/custom_graph_optimizer_registry.cc:113] Plugin optimizer for device_type GPU is enabled.\n",
      "2022-11-19 15:25:35.855019: I tensorflow/core/grappler/optimizers/custom_graph_optimizer_registry.cc:113] Plugin optimizer for device_type GPU is enabled.\n",
      "2022-11-19 15:25:36.383413: I tensorflow/core/grappler/optimizers/custom_graph_optimizer_registry.cc:113] Plugin optimizer for device_type GPU is enabled.\n",
      "2022-11-19 15:25:36.397476: I tensorflow/core/grappler/optimizers/custom_graph_optimizer_registry.cc:113] Plugin optimizer for device_type GPU is enabled.\n",
      "2022-11-19 15:25:37.163802: I tensorflow/core/grappler/optimizers/custom_graph_optimizer_registry.cc:113] Plugin optimizer for device_type GPU is enabled.\n",
      "2022-11-19 15:25:37.183848: I tensorflow/core/grappler/optimizers/custom_graph_optimizer_registry.cc:113] Plugin optimizer for device_type GPU is enabled.\n",
      "2022-11-19 15:25:38.260968: I tensorflow/core/grappler/optimizers/custom_graph_optimizer_registry.cc:113] Plugin optimizer for device_type GPU is enabled.\n",
      "2022-11-19 15:25:38.286850: I tensorflow/core/grappler/optimizers/custom_graph_optimizer_registry.cc:113] Plugin optimizer for device_type GPU is enabled.\n",
      "2022-11-19 15:25:38.966785: I tensorflow/core/grappler/optimizers/custom_graph_optimizer_registry.cc:113] Plugin optimizer for device_type GPU is enabled.\n",
      "2022-11-19 15:25:39.000892: I tensorflow/core/grappler/optimizers/custom_graph_optimizer_registry.cc:113] Plugin optimizer for device_type GPU is enabled.\n",
      "2022-11-19 15:25:39.919985: I tensorflow/core/grappler/optimizers/custom_graph_optimizer_registry.cc:113] Plugin optimizer for device_type GPU is enabled.\n",
      "2022-11-19 15:25:39.953667: I tensorflow/core/grappler/optimizers/custom_graph_optimizer_registry.cc:113] Plugin optimizer for device_type GPU is enabled.\n",
      "2022-11-19 15:25:40.820010: I tensorflow/core/grappler/optimizers/custom_graph_optimizer_registry.cc:113] Plugin optimizer for device_type GPU is enabled.\n",
      "2022-11-19 15:25:40.853476: I tensorflow/core/grappler/optimizers/custom_graph_optimizer_registry.cc:113] Plugin optimizer for device_type GPU is enabled.\n",
      "2022-11-19 15:25:41.735225: I tensorflow/core/grappler/optimizers/custom_graph_optimizer_registry.cc:113] Plugin optimizer for device_type GPU is enabled.\n",
      "2022-11-19 15:25:41.781267: I tensorflow/core/grappler/optimizers/custom_graph_optimizer_registry.cc:113] Plugin optimizer for device_type GPU is enabled.\n",
      "2022-11-19 15:25:42.664692: I tensorflow/core/grappler/optimizers/custom_graph_optimizer_registry.cc:113] Plugin optimizer for device_type GPU is enabled.\n",
      "2022-11-19 15:25:42.701967: I tensorflow/core/grappler/optimizers/custom_graph_optimizer_registry.cc:113] Plugin optimizer for device_type GPU is enabled.\n",
      "2022-11-19 15:26:23.196115: I tensorflow/core/grappler/optimizers/custom_graph_optimizer_registry.cc:113] Plugin optimizer for device_type GPU is enabled.\n",
      "2022-11-19 15:26:23.810665: I tensorflow/core/grappler/optimizers/custom_graph_optimizer_registry.cc:113] Plugin optimizer for device_type GPU is enabled.\n",
      "2022-11-19 15:26:23.822635: I tensorflow/core/grappler/optimizers/custom_graph_optimizer_registry.cc:113] Plugin optimizer for device_type GPU is enabled.\n",
      "2022-11-19 15:26:24.064149: I tensorflow/core/grappler/optimizers/custom_graph_optimizer_registry.cc:113] Plugin optimizer for device_type GPU is enabled.\n",
      "2022-11-19 15:26:24.080692: I tensorflow/core/grappler/optimizers/custom_graph_optimizer_registry.cc:113] Plugin optimizer for device_type GPU is enabled.\n",
      "2022-11-19 15:26:24.460721: I tensorflow/core/grappler/optimizers/custom_graph_optimizer_registry.cc:113] Plugin optimizer for device_type GPU is enabled.\n",
      "2022-11-19 15:26:24.470894: I tensorflow/core/grappler/optimizers/custom_graph_optimizer_registry.cc:113] Plugin optimizer for device_type GPU is enabled.\n",
      "2022-11-19 15:26:24.798197: I tensorflow/core/grappler/optimizers/custom_graph_optimizer_registry.cc:113] Plugin optimizer for device_type GPU is enabled.\n",
      "2022-11-19 15:26:24.807915: I tensorflow/core/grappler/optimizers/custom_graph_optimizer_registry.cc:113] Plugin optimizer for device_type GPU is enabled.\n",
      "2022-11-19 15:26:25.141025: I tensorflow/core/grappler/optimizers/custom_graph_optimizer_registry.cc:113] Plugin optimizer for device_type GPU is enabled.\n",
      "2022-11-19 15:26:25.150819: I tensorflow/core/grappler/optimizers/custom_graph_optimizer_registry.cc:113] Plugin optimizer for device_type GPU is enabled.\n",
      "2022-11-19 15:26:25.478063: I tensorflow/core/grappler/optimizers/custom_graph_optimizer_registry.cc:113] Plugin optimizer for device_type GPU is enabled.\n",
      "2022-11-19 15:26:25.487539: I tensorflow/core/grappler/optimizers/custom_graph_optimizer_registry.cc:113] Plugin optimizer for device_type GPU is enabled.\n",
      "2022-11-19 15:26:25.826331: I tensorflow/core/grappler/optimizers/custom_graph_optimizer_registry.cc:113] Plugin optimizer for device_type GPU is enabled.\n",
      "2022-11-19 15:26:25.836516: I tensorflow/core/grappler/optimizers/custom_graph_optimizer_registry.cc:113] Plugin optimizer for device_type GPU is enabled.\n",
      "2022-11-19 15:45:14.103390: I tensorflow/core/grappler/optimizers/custom_graph_optimizer_registry.cc:113] Plugin optimizer for device_type GPU is enabled.\n",
      "2022-11-19 15:45:14.746697: I tensorflow/core/grappler/optimizers/custom_graph_optimizer_registry.cc:113] Plugin optimizer for device_type GPU is enabled.\n",
      "2022-11-19 15:45:14.758053: I tensorflow/core/grappler/optimizers/custom_graph_optimizer_registry.cc:113] Plugin optimizer for device_type GPU is enabled.\n",
      "2022-11-19 15:45:15.139367: I tensorflow/core/grappler/optimizers/custom_graph_optimizer_registry.cc:113] Plugin optimizer for device_type GPU is enabled.\n",
      "2022-11-19 15:45:15.169028: I tensorflow/core/grappler/optimizers/custom_graph_optimizer_registry.cc:113] Plugin optimizer for device_type GPU is enabled.\n",
      "2022-11-19 15:45:15.584777: I tensorflow/core/grappler/optimizers/custom_graph_optimizer_registry.cc:113] Plugin optimizer for device_type GPU is enabled.\n",
      "2022-11-19 15:45:15.595107: I tensorflow/core/grappler/optimizers/custom_graph_optimizer_registry.cc:113] Plugin optimizer for device_type GPU is enabled.\n",
      "2022-11-19 15:45:15.943836: I tensorflow/core/grappler/optimizers/custom_graph_optimizer_registry.cc:113] Plugin optimizer for device_type GPU is enabled.\n",
      "2022-11-19 15:45:15.953730: I tensorflow/core/grappler/optimizers/custom_graph_optimizer_registry.cc:113] Plugin optimizer for device_type GPU is enabled.\n",
      "2022-11-19 15:45:17.584189: I tensorflow/core/grappler/optimizers/custom_graph_optimizer_registry.cc:113] Plugin optimizer for device_type GPU is enabled.\n",
      "2022-11-19 15:45:17.596766: I tensorflow/core/grappler/optimizers/custom_graph_optimizer_registry.cc:113] Plugin optimizer for device_type GPU is enabled.\n",
      "2022-11-19 15:45:18.161620: I tensorflow/core/grappler/optimizers/custom_graph_optimizer_registry.cc:113] Plugin optimizer for device_type GPU is enabled.\n",
      "2022-11-19 15:45:18.172106: I tensorflow/core/grappler/optimizers/custom_graph_optimizer_registry.cc:113] Plugin optimizer for device_type GPU is enabled.\n",
      "2022-11-19 15:45:18.524456: I tensorflow/core/grappler/optimizers/custom_graph_optimizer_registry.cc:113] Plugin optimizer for device_type GPU is enabled.\n",
      "2022-11-19 15:45:18.535580: I tensorflow/core/grappler/optimizers/custom_graph_optimizer_registry.cc:113] Plugin optimizer for device_type GPU is enabled.\n"
     ]
    },
    {
     "data": {
      "text/html": [
       "Waiting for W&B process to finish... <strong style=\"color:green\">(success).</strong>"
      ],
      "text/plain": [
       "<IPython.core.display.HTML object>"
      ]
     },
     "metadata": {},
     "output_type": "display_data"
    },
    {
     "data": {
      "text/html": [
       "<style>\n",
       "    table.wandb td:nth-child(1) { padding: 0 10px; text-align: left ; width: auto;} td:nth-child(2) {text-align: left ; width: 100%}\n",
       "    .wandb-row { display: flex; flex-direction: row; flex-wrap: wrap; justify-content: flex-start; width: 100% }\n",
       "    .wandb-col { display: flex; flex-direction: column; flex-basis: 100%; flex: 1; padding: 10px; }\n",
       "    </style>\n",
       "<div class=\"wandb-row\"><div class=\"wandb-col\"><h3>Run history:</h3><br/><table class=\"wandb\"><tr><td>epoch</td><td>▁▁▂▂▂▂▃▃▃▄▄▄▅▅▅▅▆▆▆▇▇▇▇██</td></tr><tr><td>loss</td><td>█▁▁▁▁▁▁▁▁▁▁▁▁▁▁▁▁▁▁▁▁▁▁▁▁</td></tr><tr><td>val_loss</td><td>█▂▁▁▁▁▁▁▁▁▁▁▁▁▁▁▁▁▁▁▁▁▁▁▁</td></tr></table><br/></div><div class=\"wandb-col\"><h3>Run summary:</h3><br/><table class=\"wandb\"><tr><td>10CUB HF</td><td>0.1998</td></tr><tr><td>10CUB LF</td><td>0.06621</td></tr><tr><td>10CUB RMSSD</td><td>4.10975</td></tr><tr><td>10CUB SDNN</td><td>5.58242</td></tr><tr><td>10CUB TOTAL POWER</td><td>9.185</td></tr><tr><td>10CUB VLF</td><td>8.919</td></tr><tr><td>10HF</td><td>0.18935</td></tr><tr><td>10LF</td><td>0.10303</td></tr><tr><td>10RMSSD</td><td>4.11524</td></tr><tr><td>10SDNN</td><td>5.60886</td></tr><tr><td>10TOTAL POWER</td><td>9.55024</td></tr><tr><td>10VLF</td><td>9.25786</td></tr><tr><td>10cub_err_HF</td><td>0.02151</td></tr><tr><td>10cub_err_LF</td><td>0.34212</td></tr><tr><td>10cub_err_RMSSD</td><td>0.01699</td></tr><tr><td>10cub_err_SDNN</td><td>0.00018</td></tr><tr><td>10cub_err_TOTAL POWER</td><td>0.03855</td></tr><tr><td>10cub_err_VLF</td><td>0.03719</td></tr><tr><td>10err_HF</td><td>0.0319</td></tr><tr><td>10err_LF</td><td>1.08849</td></tr><tr><td>10err_RMSSD</td><td>0.01568</td></tr><tr><td>10err_SDNN</td><td>0.00492</td></tr><tr><td>10err_TOTAL POWER</td><td>0.07984</td></tr><tr><td>10err_VLF</td><td>0.0766</td></tr><tr><td>TRUE HF</td><td>0.19559</td></tr><tr><td>TRUE LF</td><td>0.04933</td></tr><tr><td>TRUE RMSSD</td><td>4.18078</td></tr><tr><td>TRUE SDNN</td><td>5.58141</td></tr><tr><td>TRUE TOTAL POWER</td><td>8.8441</td></tr><tr><td>TRUE VLF</td><td>8.59918</td></tr><tr><td>best_epoch</td><td>14</td></tr><tr><td>best_val_loss</td><td>0.02728</td></tr><tr><td>epoch</td><td>24</td></tr><tr><td>loss</td><td>0.03513</td></tr><tr><td>val_loss</td><td>0.03459</td></tr></table><br/></div></div>"
      ],
      "text/plain": [
       "<IPython.core.display.HTML object>"
      ]
     },
     "metadata": {},
     "output_type": "display_data"
    },
    {
     "data": {
      "text/html": [
       "Synced <strong style=\"color:#cdcd00\">seq_person0</strong>: <a href=\"https://wandb.ai/jakobsv/Paper1_tests/runs/2fu4f6tg\" target=\"_blank\">https://wandb.ai/jakobsv/Paper1_tests/runs/2fu4f6tg</a><br/>Synced 6 W&B file(s), 0 media file(s), 0 artifact file(s) and 0 other file(s)"
      ],
      "text/plain": [
       "<IPython.core.display.HTML object>"
      ]
     },
     "metadata": {},
     "output_type": "display_data"
    },
    {
     "data": {
      "text/html": [
       "Find logs at: <code>./wandb/run-20221119_152512-2fu4f6tg/logs</code>"
      ],
      "text/plain": [
       "<IPython.core.display.HTML object>"
      ]
     },
     "metadata": {},
     "output_type": "display_data"
    },
    {
     "name": "stderr",
     "output_type": "stream",
     "text": [
      "wandb: Sweep Agent: Waiting for job.\n",
      "wandb: Sweep Agent: Exiting.\n"
     ]
    }
   ],
   "source": [
    "#global person_nr\n",
    "#for person_nr in [0,1,2,3,4,5]: #Go through every person in source_data\n",
    "#    global target_data\n",
    "#    target_data = source_data[person_nr].copy()\n",
    "#    sweep_id = wandb.sweep(sweep_config, project=\"Article1Sweeps\")\n",
    "#    wandb.agent(sweep_id, function=train_function)\n",
    "\n",
    "#global person_nr\n",
    "#for person_nr in [5,6,7,8,9,10,11]: #Go through every person in source_data\n",
    "    #global target_data\n",
    "    #target_data = physio_data[person_nr].copy()\n",
    "    #sweep_id = wandb.sweep(sweep_config, project=\"Article1Sweeps\")\n",
    "    #wandb.agent(sweep_id, function=train_function)\n",
    "\n",
    "\n",
    "global person_nr\n",
    "person_nr = 0\n",
    "\n",
    "global target_data\n",
    "target_data = source_data[person_nr].copy()\n",
    "#target_data = physio_data[person_nr].copy() #Person \n",
    "    \n",
    "sweep_id = wandb.sweep(sweep_config, project=\"Paper1_tests\")\n",
    "wandb.agent(sweep_id, function=train_function)"
   ]
  },
  {
   "cell_type": "code",
   "execution_count": 314,
   "metadata": {},
   "outputs": [
    {
     "data": {
      "text/plain": [
       "[<matplotlib.lines.Line2D at 0x367b27880>]"
      ]
     },
     "execution_count": 314,
     "metadata": {},
     "output_type": "execute_result"
    },
    {
     "data": {
      "text/plain": [
       "[<matplotlib.lines.Line2D at 0x367b27b20>]"
      ]
     },
     "execution_count": 314,
     "metadata": {},
     "output_type": "execute_result"
    },
    {
     "data": {
      "text/plain": [
       "[<matplotlib.lines.Line2D at 0x367b27dc0>]"
      ]
     },
     "execution_count": 314,
     "metadata": {},
     "output_type": "execute_result"
    },
    {
     "data": {
      "text/plain": [
       "<matplotlib.legend.Legend at 0x367b27d90>"
      ]
     },
     "execution_count": 314,
     "metadata": {},
     "output_type": "execute_result"
    },
    {
     "data": {
      "image/svg+xml": "<?xml version=\"1.0\" encoding=\"utf-8\" standalone=\"no\"?>\n<!DOCTYPE svg PUBLIC \"-//W3C//DTD SVG 1.1//EN\"\n  \"http://www.w3.org/Graphics/SVG/1.1/DTD/svg11.dtd\">\n<svg xmlns:xlink=\"http://www.w3.org/1999/xlink\" width=\"388.940379pt\" height=\"248.518125pt\" viewBox=\"0 0 388.940379 248.518125\" xmlns=\"http://www.w3.org/2000/svg\" version=\"1.1\">\n <metadata>\n  <rdf:RDF xmlns:dc=\"http://purl.org/dc/elements/1.1/\" xmlns:cc=\"http://creativecommons.org/ns#\" xmlns:rdf=\"http://www.w3.org/1999/02/22-rdf-syntax-ns#\">\n   <cc:Work>\n    <dc:type rdf:resource=\"http://purl.org/dc/dcmitype/StillImage\"/>\n    <dc:date>2022-10-26T16:59:30.696832</dc:date>\n    <dc:format>image/svg+xml</dc:format>\n    <dc:creator>\n     <cc:Agent>\n      <dc:title>Matplotlib v3.5.3, https://matplotlib.org/</dc:title>\n     </cc:Agent>\n    </dc:creator>\n   </cc:Work>\n  </rdf:RDF>\n </metadata>\n <defs>\n  <style type=\"text/css\">*{stroke-linejoin: round; stroke-linecap: butt}</style>\n </defs>\n <g id=\"figure_1\">\n  <g id=\"patch_1\">\n   <path d=\"M 0 248.518125 \nL 388.940379 248.518125 \nL 388.940379 0 \nL 0 0 \nL 0 248.518125 \nz\n\" style=\"fill: none\"/>\n  </g>\n  <g id=\"axes_1\">\n   <g id=\"patch_2\">\n    <path d=\"M 42.828125 224.64 \nL 377.628125 224.64 \nL 377.628125 7.2 \nL 42.828125 7.2 \nz\n\" style=\"fill: #ffffff\"/>\n   </g>\n   <g id=\"matplotlib.axis_1\">\n    <g id=\"xtick_1\">\n     <g id=\"line2d_1\">\n      <defs>\n       <path id=\"ma439aefd70\" d=\"M 0 0 \nL 0 3.5 \n\" style=\"stroke: #000000; stroke-width: 0.8\"/>\n      </defs>\n      <g>\n       <use xlink:href=\"#ma439aefd70\" x=\"78.96791\" y=\"224.64\" style=\"stroke: #000000; stroke-width: 0.8\"/>\n      </g>\n     </g>\n     <g id=\"text_1\">\n      <!-- 24 -->\n      <g transform=\"translate(72.60541 239.238438)scale(0.1 -0.1)\">\n       <defs>\n        <path id=\"DejaVuSans-32\" d=\"M 1228 531 \nL 3431 531 \nL 3431 0 \nL 469 0 \nL 469 531 \nQ 828 903 1448 1529 \nQ 2069 2156 2228 2338 \nQ 2531 2678 2651 2914 \nQ 2772 3150 2772 3378 \nQ 2772 3750 2511 3984 \nQ 2250 4219 1831 4219 \nQ 1534 4219 1204 4116 \nQ 875 4013 500 3803 \nL 500 4441 \nQ 881 4594 1212 4672 \nQ 1544 4750 1819 4750 \nQ 2544 4750 2975 4387 \nQ 3406 4025 3406 3419 \nQ 3406 3131 3298 2873 \nQ 3191 2616 2906 2266 \nQ 2828 2175 2409 1742 \nQ 1991 1309 1228 531 \nz\n\" transform=\"scale(0.015625)\"/>\n        <path id=\"DejaVuSans-34\" d=\"M 2419 4116 \nL 825 1625 \nL 2419 1625 \nL 2419 4116 \nz\nM 2253 4666 \nL 3047 4666 \nL 3047 1625 \nL 3713 1625 \nL 3713 1100 \nL 3047 1100 \nL 3047 0 \nL 2419 0 \nL 2419 1100 \nL 313 1100 \nL 313 1709 \nL 2253 4666 \nz\n\" transform=\"scale(0.015625)\"/>\n       </defs>\n       <use xlink:href=\"#DejaVuSans-32\"/>\n       <use xlink:href=\"#DejaVuSans-34\" x=\"63.623047\"/>\n      </g>\n     </g>\n    </g>\n    <g id=\"xtick_2\">\n     <g id=\"line2d_2\">\n      <g>\n       <use xlink:href=\"#ma439aefd70\" x=\"128.369572\" y=\"224.64\" style=\"stroke: #000000; stroke-width: 0.8\"/>\n      </g>\n     </g>\n     <g id=\"text_2\">\n      <!-- 26 -->\n      <g transform=\"translate(122.007072 239.238438)scale(0.1 -0.1)\">\n       <defs>\n        <path id=\"DejaVuSans-36\" d=\"M 2113 2584 \nQ 1688 2584 1439 2293 \nQ 1191 2003 1191 1497 \nQ 1191 994 1439 701 \nQ 1688 409 2113 409 \nQ 2538 409 2786 701 \nQ 3034 994 3034 1497 \nQ 3034 2003 2786 2293 \nQ 2538 2584 2113 2584 \nz\nM 3366 4563 \nL 3366 3988 \nQ 3128 4100 2886 4159 \nQ 2644 4219 2406 4219 \nQ 1781 4219 1451 3797 \nQ 1122 3375 1075 2522 \nQ 1259 2794 1537 2939 \nQ 1816 3084 2150 3084 \nQ 2853 3084 3261 2657 \nQ 3669 2231 3669 1497 \nQ 3669 778 3244 343 \nQ 2819 -91 2113 -91 \nQ 1303 -91 875 529 \nQ 447 1150 447 2328 \nQ 447 3434 972 4092 \nQ 1497 4750 2381 4750 \nQ 2619 4750 2861 4703 \nQ 3103 4656 3366 4563 \nz\n\" transform=\"scale(0.015625)\"/>\n       </defs>\n       <use xlink:href=\"#DejaVuSans-32\"/>\n       <use xlink:href=\"#DejaVuSans-36\" x=\"63.623047\"/>\n      </g>\n     </g>\n    </g>\n    <g id=\"xtick_3\">\n     <g id=\"line2d_3\">\n      <g>\n       <use xlink:href=\"#ma439aefd70\" x=\"177.771233\" y=\"224.64\" style=\"stroke: #000000; stroke-width: 0.8\"/>\n      </g>\n     </g>\n     <g id=\"text_3\">\n      <!-- 28 -->\n      <g transform=\"translate(171.408733 239.238438)scale(0.1 -0.1)\">\n       <defs>\n        <path id=\"DejaVuSans-38\" d=\"M 2034 2216 \nQ 1584 2216 1326 1975 \nQ 1069 1734 1069 1313 \nQ 1069 891 1326 650 \nQ 1584 409 2034 409 \nQ 2484 409 2743 651 \nQ 3003 894 3003 1313 \nQ 3003 1734 2745 1975 \nQ 2488 2216 2034 2216 \nz\nM 1403 2484 \nQ 997 2584 770 2862 \nQ 544 3141 544 3541 \nQ 544 4100 942 4425 \nQ 1341 4750 2034 4750 \nQ 2731 4750 3128 4425 \nQ 3525 4100 3525 3541 \nQ 3525 3141 3298 2862 \nQ 3072 2584 2669 2484 \nQ 3125 2378 3379 2068 \nQ 3634 1759 3634 1313 \nQ 3634 634 3220 271 \nQ 2806 -91 2034 -91 \nQ 1263 -91 848 271 \nQ 434 634 434 1313 \nQ 434 1759 690 2068 \nQ 947 2378 1403 2484 \nz\nM 1172 3481 \nQ 1172 3119 1398 2916 \nQ 1625 2713 2034 2713 \nQ 2441 2713 2670 2916 \nQ 2900 3119 2900 3481 \nQ 2900 3844 2670 4047 \nQ 2441 4250 2034 4250 \nQ 1625 4250 1398 4047 \nQ 1172 3844 1172 3481 \nz\n\" transform=\"scale(0.015625)\"/>\n       </defs>\n       <use xlink:href=\"#DejaVuSans-32\"/>\n       <use xlink:href=\"#DejaVuSans-38\" x=\"63.623047\"/>\n      </g>\n     </g>\n    </g>\n    <g id=\"xtick_4\">\n     <g id=\"line2d_4\">\n      <g>\n       <use xlink:href=\"#ma439aefd70\" x=\"227.172895\" y=\"224.64\" style=\"stroke: #000000; stroke-width: 0.8\"/>\n      </g>\n     </g>\n     <g id=\"text_4\">\n      <!-- 30 -->\n      <g transform=\"translate(220.810395 239.238438)scale(0.1 -0.1)\">\n       <defs>\n        <path id=\"DejaVuSans-33\" d=\"M 2597 2516 \nQ 3050 2419 3304 2112 \nQ 3559 1806 3559 1356 \nQ 3559 666 3084 287 \nQ 2609 -91 1734 -91 \nQ 1441 -91 1130 -33 \nQ 819 25 488 141 \nL 488 750 \nQ 750 597 1062 519 \nQ 1375 441 1716 441 \nQ 2309 441 2620 675 \nQ 2931 909 2931 1356 \nQ 2931 1769 2642 2001 \nQ 2353 2234 1838 2234 \nL 1294 2234 \nL 1294 2753 \nL 1863 2753 \nQ 2328 2753 2575 2939 \nQ 2822 3125 2822 3475 \nQ 2822 3834 2567 4026 \nQ 2313 4219 1838 4219 \nQ 1578 4219 1281 4162 \nQ 984 4106 628 3988 \nL 628 4550 \nQ 988 4650 1302 4700 \nQ 1616 4750 1894 4750 \nQ 2613 4750 3031 4423 \nQ 3450 4097 3450 3541 \nQ 3450 3153 3228 2886 \nQ 3006 2619 2597 2516 \nz\n\" transform=\"scale(0.015625)\"/>\n        <path id=\"DejaVuSans-30\" d=\"M 2034 4250 \nQ 1547 4250 1301 3770 \nQ 1056 3291 1056 2328 \nQ 1056 1369 1301 889 \nQ 1547 409 2034 409 \nQ 2525 409 2770 889 \nQ 3016 1369 3016 2328 \nQ 3016 3291 2770 3770 \nQ 2525 4250 2034 4250 \nz\nM 2034 4750 \nQ 2819 4750 3233 4129 \nQ 3647 3509 3647 2328 \nQ 3647 1150 3233 529 \nQ 2819 -91 2034 -91 \nQ 1250 -91 836 529 \nQ 422 1150 422 2328 \nQ 422 3509 836 4129 \nQ 1250 4750 2034 4750 \nz\n\" transform=\"scale(0.015625)\"/>\n       </defs>\n       <use xlink:href=\"#DejaVuSans-33\"/>\n       <use xlink:href=\"#DejaVuSans-30\" x=\"63.623047\"/>\n      </g>\n     </g>\n    </g>\n    <g id=\"xtick_5\">\n     <g id=\"line2d_5\">\n      <g>\n       <use xlink:href=\"#ma439aefd70\" x=\"276.574556\" y=\"224.64\" style=\"stroke: #000000; stroke-width: 0.8\"/>\n      </g>\n     </g>\n     <g id=\"text_5\">\n      <!-- 32 -->\n      <g transform=\"translate(270.212056 239.238438)scale(0.1 -0.1)\">\n       <use xlink:href=\"#DejaVuSans-33\"/>\n       <use xlink:href=\"#DejaVuSans-32\" x=\"63.623047\"/>\n      </g>\n     </g>\n    </g>\n    <g id=\"xtick_6\">\n     <g id=\"line2d_6\">\n      <g>\n       <use xlink:href=\"#ma439aefd70\" x=\"325.976218\" y=\"224.64\" style=\"stroke: #000000; stroke-width: 0.8\"/>\n      </g>\n     </g>\n     <g id=\"text_6\">\n      <!-- 34 -->\n      <g transform=\"translate(319.613718 239.238438)scale(0.1 -0.1)\">\n       <use xlink:href=\"#DejaVuSans-33\"/>\n       <use xlink:href=\"#DejaVuSans-34\" x=\"63.623047\"/>\n      </g>\n     </g>\n    </g>\n    <g id=\"xtick_7\">\n     <g id=\"line2d_7\">\n      <g>\n       <use xlink:href=\"#ma439aefd70\" x=\"375.377879\" y=\"224.64\" style=\"stroke: #000000; stroke-width: 0.8\"/>\n      </g>\n     </g>\n     <g id=\"text_7\">\n      <!-- 36 -->\n      <g transform=\"translate(369.015379 239.238438)scale(0.1 -0.1)\">\n       <use xlink:href=\"#DejaVuSans-33\"/>\n       <use xlink:href=\"#DejaVuSans-36\" x=\"63.623047\"/>\n      </g>\n     </g>\n    </g>\n   </g>\n   <g id=\"matplotlib.axis_2\">\n    <g id=\"ytick_1\">\n     <g id=\"line2d_8\">\n      <defs>\n       <path id=\"md655823065\" d=\"M 0 0 \nL -3.5 0 \n\" style=\"stroke: #000000; stroke-width: 0.8\"/>\n      </defs>\n      <g>\n       <use xlink:href=\"#md655823065\" x=\"42.828125\" y=\"200.305938\" style=\"stroke: #000000; stroke-width: 0.8\"/>\n      </g>\n     </g>\n     <g id=\"text_8\">\n      <!-- 0.310 -->\n      <g transform=\"translate(7.2 204.105157)scale(0.1 -0.1)\">\n       <defs>\n        <path id=\"DejaVuSans-2e\" d=\"M 684 794 \nL 1344 794 \nL 1344 0 \nL 684 0 \nL 684 794 \nz\n\" transform=\"scale(0.015625)\"/>\n        <path id=\"DejaVuSans-31\" d=\"M 794 531 \nL 1825 531 \nL 1825 4091 \nL 703 3866 \nL 703 4441 \nL 1819 4666 \nL 2450 4666 \nL 2450 531 \nL 3481 531 \nL 3481 0 \nL 794 0 \nL 794 531 \nz\n\" transform=\"scale(0.015625)\"/>\n       </defs>\n       <use xlink:href=\"#DejaVuSans-30\"/>\n       <use xlink:href=\"#DejaVuSans-2e\" x=\"63.623047\"/>\n       <use xlink:href=\"#DejaVuSans-33\" x=\"95.410156\"/>\n       <use xlink:href=\"#DejaVuSans-31\" x=\"159.033203\"/>\n       <use xlink:href=\"#DejaVuSans-30\" x=\"222.65625\"/>\n      </g>\n     </g>\n    </g>\n    <g id=\"ytick_2\">\n     <g id=\"line2d_9\">\n      <g>\n       <use xlink:href=\"#md655823065\" x=\"42.828125\" y=\"171.405087\" style=\"stroke: #000000; stroke-width: 0.8\"/>\n      </g>\n     </g>\n     <g id=\"text_9\">\n      <!-- 0.312 -->\n      <g transform=\"translate(7.2 175.204306)scale(0.1 -0.1)\">\n       <use xlink:href=\"#DejaVuSans-30\"/>\n       <use xlink:href=\"#DejaVuSans-2e\" x=\"63.623047\"/>\n       <use xlink:href=\"#DejaVuSans-33\" x=\"95.410156\"/>\n       <use xlink:href=\"#DejaVuSans-31\" x=\"159.033203\"/>\n       <use xlink:href=\"#DejaVuSans-32\" x=\"222.65625\"/>\n      </g>\n     </g>\n    </g>\n    <g id=\"ytick_3\">\n     <g id=\"line2d_10\">\n      <g>\n       <use xlink:href=\"#md655823065\" x=\"42.828125\" y=\"142.504236\" style=\"stroke: #000000; stroke-width: 0.8\"/>\n      </g>\n     </g>\n     <g id=\"text_10\">\n      <!-- 0.314 -->\n      <g transform=\"translate(7.2 146.303455)scale(0.1 -0.1)\">\n       <use xlink:href=\"#DejaVuSans-30\"/>\n       <use xlink:href=\"#DejaVuSans-2e\" x=\"63.623047\"/>\n       <use xlink:href=\"#DejaVuSans-33\" x=\"95.410156\"/>\n       <use xlink:href=\"#DejaVuSans-31\" x=\"159.033203\"/>\n       <use xlink:href=\"#DejaVuSans-34\" x=\"222.65625\"/>\n      </g>\n     </g>\n    </g>\n    <g id=\"ytick_4\">\n     <g id=\"line2d_11\">\n      <g>\n       <use xlink:href=\"#md655823065\" x=\"42.828125\" y=\"113.603385\" style=\"stroke: #000000; stroke-width: 0.8\"/>\n      </g>\n     </g>\n     <g id=\"text_11\">\n      <!-- 0.316 -->\n      <g transform=\"translate(7.2 117.402603)scale(0.1 -0.1)\">\n       <use xlink:href=\"#DejaVuSans-30\"/>\n       <use xlink:href=\"#DejaVuSans-2e\" x=\"63.623047\"/>\n       <use xlink:href=\"#DejaVuSans-33\" x=\"95.410156\"/>\n       <use xlink:href=\"#DejaVuSans-31\" x=\"159.033203\"/>\n       <use xlink:href=\"#DejaVuSans-36\" x=\"222.65625\"/>\n      </g>\n     </g>\n    </g>\n    <g id=\"ytick_5\">\n     <g id=\"line2d_12\">\n      <g>\n       <use xlink:href=\"#md655823065\" x=\"42.828125\" y=\"84.702534\" style=\"stroke: #000000; stroke-width: 0.8\"/>\n      </g>\n     </g>\n     <g id=\"text_12\">\n      <!-- 0.318 -->\n      <g transform=\"translate(7.2 88.501752)scale(0.1 -0.1)\">\n       <use xlink:href=\"#DejaVuSans-30\"/>\n       <use xlink:href=\"#DejaVuSans-2e\" x=\"63.623047\"/>\n       <use xlink:href=\"#DejaVuSans-33\" x=\"95.410156\"/>\n       <use xlink:href=\"#DejaVuSans-31\" x=\"159.033203\"/>\n       <use xlink:href=\"#DejaVuSans-38\" x=\"222.65625\"/>\n      </g>\n     </g>\n    </g>\n    <g id=\"ytick_6\">\n     <g id=\"line2d_13\">\n      <g>\n       <use xlink:href=\"#md655823065\" x=\"42.828125\" y=\"55.801682\" style=\"stroke: #000000; stroke-width: 0.8\"/>\n      </g>\n     </g>\n     <g id=\"text_13\">\n      <!-- 0.320 -->\n      <g transform=\"translate(7.2 59.600901)scale(0.1 -0.1)\">\n       <use xlink:href=\"#DejaVuSans-30\"/>\n       <use xlink:href=\"#DejaVuSans-2e\" x=\"63.623047\"/>\n       <use xlink:href=\"#DejaVuSans-33\" x=\"95.410156\"/>\n       <use xlink:href=\"#DejaVuSans-32\" x=\"159.033203\"/>\n       <use xlink:href=\"#DejaVuSans-30\" x=\"222.65625\"/>\n      </g>\n     </g>\n    </g>\n    <g id=\"ytick_7\">\n     <g id=\"line2d_14\">\n      <g>\n       <use xlink:href=\"#md655823065\" x=\"42.828125\" y=\"26.900831\" style=\"stroke: #000000; stroke-width: 0.8\"/>\n      </g>\n     </g>\n     <g id=\"text_14\">\n      <!-- 0.322 -->\n      <g transform=\"translate(7.2 30.70005)scale(0.1 -0.1)\">\n       <use xlink:href=\"#DejaVuSans-30\"/>\n       <use xlink:href=\"#DejaVuSans-2e\" x=\"63.623047\"/>\n       <use xlink:href=\"#DejaVuSans-33\" x=\"95.410156\"/>\n       <use xlink:href=\"#DejaVuSans-32\" x=\"159.033203\"/>\n       <use xlink:href=\"#DejaVuSans-32\" x=\"222.65625\"/>\n      </g>\n     </g>\n    </g>\n   </g>\n   <g id=\"line2d_15\">\n    <path d=\"M 167.075774 113.603385 \nL 174.901713 101.62404 \nL 182.680051 129.471565 \nL 190.627056 30.798746 \nL 198.545821 47.31958 \nL 206.436859 63.540248 \nL 214.189469 144.523001 \nL 222.159917 17.083636 \nL 229.971778 109.860341 \nL 237.675116 173.348115 \nL 245.456901 127.455233 \nL 252.935861 128.05381 \n\" clip-path=\"url(#pa0890c357a)\" style=\"fill: none; stroke: #1f77b4; stroke-width: 1.5; stroke-linecap: square\"/>\n   </g>\n   <g id=\"line2d_16\">\n    <defs>\n     <path id=\"mce363d4eef\" d=\"M 0 3 \nC 0.795609 3 1.55874 2.683901 2.12132 2.12132 \nC 2.683901 1.55874 3 0.795609 3 0 \nC 3 -0.795609 2.683901 -1.55874 2.12132 -2.12132 \nC 1.55874 -2.683901 0.795609 -3 0 -3 \nC -0.795609 -3 -1.55874 -2.683901 -2.12132 -2.12132 \nC -2.683901 -1.55874 -3 -0.795609 -3 0 \nC -3 0.795609 -2.683901 1.55874 -2.12132 2.12132 \nC -1.55874 2.683901 -0.795609 3 0 3 \nz\n\" style=\"stroke: #ff7f0e\"/>\n    </defs>\n    <g clip-path=\"url(#pa0890c357a)\">\n     <use xlink:href=\"#mce363d4eef\" x=\"174.901713\" y=\"101.62404\" style=\"fill: #ff7f0e; stroke: #ff7f0e\"/>\n     <use xlink:href=\"#mce363d4eef\" x=\"182.680051\" y=\"129.471565\" style=\"fill: #ff7f0e; stroke: #ff7f0e\"/>\n     <use xlink:href=\"#mce363d4eef\" x=\"190.627056\" y=\"30.798746\" style=\"fill: #ff7f0e; stroke: #ff7f0e\"/>\n     <use xlink:href=\"#mce363d4eef\" x=\"198.545821\" y=\"47.31958\" style=\"fill: #ff7f0e; stroke: #ff7f0e\"/>\n     <use xlink:href=\"#mce363d4eef\" x=\"206.436859\" y=\"63.540248\" style=\"fill: #ff7f0e; stroke: #ff7f0e\"/>\n     <use xlink:href=\"#mce363d4eef\" x=\"214.189469\" y=\"144.523001\" style=\"fill: #ff7f0e; stroke: #ff7f0e\"/>\n     <use xlink:href=\"#mce363d4eef\" x=\"222.159917\" y=\"17.083636\" style=\"fill: #ff7f0e; stroke: #ff7f0e\"/>\n     <use xlink:href=\"#mce363d4eef\" x=\"229.971778\" y=\"109.860341\" style=\"fill: #ff7f0e; stroke: #ff7f0e\"/>\n     <use xlink:href=\"#mce363d4eef\" x=\"237.675116\" y=\"173.348115\" style=\"fill: #ff7f0e; stroke: #ff7f0e\"/>\n     <use xlink:href=\"#mce363d4eef\" x=\"245.456901\" y=\"127.455233\" style=\"fill: #ff7f0e; stroke: #ff7f0e\"/>\n    </g>\n   </g>\n   <g id=\"line2d_17\">\n    <path d=\"M 58.046307 99.152959 \nL 65.851769 113.603385 \nL 73.484326 214.756364 \nL 81.363891 70.252108 \nL 89.144653 128.05381 \nL 96.950115 113.603385 \nL 104.681475 156.954661 \nL 112.511639 99.152959 \nL 120.317101 113.603385 \nL 127.974359 200.305938 \nL 135.903325 41.351257 \nL 143.708788 113.603385 \nL 151.415447 171.405087 \nL 159.270311 84.702534 \nL 167.075774 113.603385 \nL 174.881236 113.603385 \nL 182.612596 156.954661 \nL 190.492161 70.252108 \nL 198.297624 113.603385 \nL 206.053685 142.504236 \nL 213.908549 84.702534 \nL 221.714011 113.603385 \nL 229.568875 84.702534 \nL 237.226133 200.305938 \nL 245.1551 41.351257 \nL 252.935861 128.05381 \nL 260.815426 70.252108 \nL 268.546786 156.954661 \nL 276.401651 84.702534 \nL 284.281216 70.252108 \nL 291.963174 185.855513 \nL 299.86744 55.801682 \nL 307.672902 113.603385 \nL 315.404262 156.954661 \nL 323.283827 70.252108 \nL 331.163392 70.252108 \nL 338.919453 142.504236 \nL 346.724916 113.603385 \nL 354.604481 70.252108 \nL 362.409943 113.603385 \n\" clip-path=\"url(#pa0890c357a)\" style=\"fill: none; stroke: #2ca02c; stroke-width: 1.5; stroke-linecap: square\"/>\n   </g>\n   <g id=\"patch_3\">\n    <path d=\"M 42.828125 224.64 \nL 42.828125 7.2 \n\" style=\"fill: none; stroke: #000000; stroke-width: 0.8; stroke-linejoin: miter; stroke-linecap: square\"/>\n   </g>\n   <g id=\"patch_4\">\n    <path d=\"M 377.628125 224.64 \nL 377.628125 7.2 \n\" style=\"fill: none; stroke: #000000; stroke-width: 0.8; stroke-linejoin: miter; stroke-linecap: square\"/>\n   </g>\n   <g id=\"patch_5\">\n    <path d=\"M 42.828125 224.64 \nL 377.628125 224.64 \n\" style=\"fill: none; stroke: #000000; stroke-width: 0.8; stroke-linejoin: miter; stroke-linecap: square\"/>\n   </g>\n   <g id=\"patch_6\">\n    <path d=\"M 42.828125 7.2 \nL 377.628125 7.2 \n\" style=\"fill: none; stroke: #000000; stroke-width: 0.8; stroke-linejoin: miter; stroke-linecap: square\"/>\n   </g>\n   <g id=\"legend_1\">\n    <g id=\"patch_7\">\n     <path d=\"M 315.892187 44.55625 \nL 370.628125 44.55625 \nQ 372.628125 44.55625 372.628125 42.55625 \nL 372.628125 14.2 \nQ 372.628125 12.2 370.628125 12.2 \nL 315.892187 12.2 \nQ 313.892187 12.2 313.892187 14.2 \nL 313.892187 42.55625 \nQ 313.892187 44.55625 315.892187 44.55625 \nz\n\" style=\"fill: #ffffff; opacity: 0.8; stroke: #cccccc; stroke-linejoin: miter\"/>\n    </g>\n    <g id=\"line2d_18\">\n     <path d=\"M 317.892187 20.298438 \nL 327.892187 20.298438 \nL 337.892187 20.298438 \n\" style=\"fill: none; stroke: #1f77b4; stroke-width: 1.5; stroke-linecap: square\"/>\n    </g>\n    <g id=\"text_15\">\n     <!-- pred -->\n     <g transform=\"translate(345.892187 23.798438)scale(0.1 -0.1)\">\n      <defs>\n       <path id=\"DejaVuSans-70\" d=\"M 1159 525 \nL 1159 -1331 \nL 581 -1331 \nL 581 3500 \nL 1159 3500 \nL 1159 2969 \nQ 1341 3281 1617 3432 \nQ 1894 3584 2278 3584 \nQ 2916 3584 3314 3078 \nQ 3713 2572 3713 1747 \nQ 3713 922 3314 415 \nQ 2916 -91 2278 -91 \nQ 1894 -91 1617 61 \nQ 1341 213 1159 525 \nz\nM 3116 1747 \nQ 3116 2381 2855 2742 \nQ 2594 3103 2138 3103 \nQ 1681 3103 1420 2742 \nQ 1159 2381 1159 1747 \nQ 1159 1113 1420 752 \nQ 1681 391 2138 391 \nQ 2594 391 2855 752 \nQ 3116 1113 3116 1747 \nz\n\" transform=\"scale(0.015625)\"/>\n       <path id=\"DejaVuSans-72\" d=\"M 2631 2963 \nQ 2534 3019 2420 3045 \nQ 2306 3072 2169 3072 \nQ 1681 3072 1420 2755 \nQ 1159 2438 1159 1844 \nL 1159 0 \nL 581 0 \nL 581 3500 \nL 1159 3500 \nL 1159 2956 \nQ 1341 3275 1631 3429 \nQ 1922 3584 2338 3584 \nQ 2397 3584 2469 3576 \nQ 2541 3569 2628 3553 \nL 2631 2963 \nz\n\" transform=\"scale(0.015625)\"/>\n       <path id=\"DejaVuSans-65\" d=\"M 3597 1894 \nL 3597 1613 \nL 953 1613 \nQ 991 1019 1311 708 \nQ 1631 397 2203 397 \nQ 2534 397 2845 478 \nQ 3156 559 3463 722 \nL 3463 178 \nQ 3153 47 2828 -22 \nQ 2503 -91 2169 -91 \nQ 1331 -91 842 396 \nQ 353 884 353 1716 \nQ 353 2575 817 3079 \nQ 1281 3584 2069 3584 \nQ 2775 3584 3186 3129 \nQ 3597 2675 3597 1894 \nz\nM 3022 2063 \nQ 3016 2534 2758 2815 \nQ 2500 3097 2075 3097 \nQ 1594 3097 1305 2825 \nQ 1016 2553 972 2059 \nL 3022 2063 \nz\n\" transform=\"scale(0.015625)\"/>\n       <path id=\"DejaVuSans-64\" d=\"M 2906 2969 \nL 2906 4863 \nL 3481 4863 \nL 3481 0 \nL 2906 0 \nL 2906 525 \nQ 2725 213 2448 61 \nQ 2172 -91 1784 -91 \nQ 1150 -91 751 415 \nQ 353 922 353 1747 \nQ 353 2572 751 3078 \nQ 1150 3584 1784 3584 \nQ 2172 3584 2448 3432 \nQ 2725 3281 2906 2969 \nz\nM 947 1747 \nQ 947 1113 1208 752 \nQ 1469 391 1925 391 \nQ 2381 391 2643 752 \nQ 2906 1113 2906 1747 \nQ 2906 2381 2643 2742 \nQ 2381 3103 1925 3103 \nQ 1469 3103 1208 2742 \nQ 947 2381 947 1747 \nz\n\" transform=\"scale(0.015625)\"/>\n      </defs>\n      <use xlink:href=\"#DejaVuSans-70\"/>\n      <use xlink:href=\"#DejaVuSans-72\" x=\"63.476562\"/>\n      <use xlink:href=\"#DejaVuSans-65\" x=\"102.339844\"/>\n      <use xlink:href=\"#DejaVuSans-64\" x=\"163.863281\"/>\n     </g>\n    </g>\n    <g id=\"line2d_19\">\n     <g>\n      <use xlink:href=\"#mce363d4eef\" x=\"327.892187\" y=\"34.976563\" style=\"fill: #ff7f0e; stroke: #ff7f0e\"/>\n     </g>\n    </g>\n    <g id=\"text_16\">\n     <!-- pred -->\n     <g transform=\"translate(345.892187 38.476563)scale(0.1 -0.1)\">\n      <use xlink:href=\"#DejaVuSans-70\"/>\n      <use xlink:href=\"#DejaVuSans-72\" x=\"63.476562\"/>\n      <use xlink:href=\"#DejaVuSans-65\" x=\"102.339844\"/>\n      <use xlink:href=\"#DejaVuSans-64\" x=\"163.863281\"/>\n     </g>\n    </g>\n   </g>\n  </g>\n </g>\n <defs>\n  <clipPath id=\"pa0890c357a\">\n   <rect x=\"42.828125\" y=\"7.2\" width=\"334.8\" height=\"217.44\"/>\n  </clipPath>\n </defs>\n</svg>\n",
      "text/plain": [
       "<Figure size 432x288 with 1 Axes>"
      ]
     },
     "metadata": {
      "needs_background": "light"
     },
     "output_type": "display_data"
    }
   ],
   "source": [
    "%config InlineBackend.figure_format = 'svg'\n",
    "\n",
    "x = np.cumsum(final_pred)[start_hole-1:start_hole+n_forecast]\n",
    "x = np.append(x,np.cumsum(true_vals)[start_hole+n_forecast])\n",
    "\n",
    "plt.plot(x,final_pred[start_hole-1:start_hole+n_forecast+1], label='pred')\n",
    "plt.plot(np.cumsum(final_pred)[start_hole:start_hole+n_forecast],final_pred[start_hole:start_hole+n_forecast],'o', label='pred')\n",
    "plt.plot(np.cumsum(true_vals)[start_hole-15:start_hole+n_forecast+15],true_vals[start_hole-15:start_hole+n_forecast+15])\n",
    "plt.legend()"
   ]
  },
  {
   "cell_type": "code",
   "execution_count": 281,
   "metadata": {},
   "outputs": [
    {
     "data": {
      "text/plain": [
       "0.315"
      ]
     },
     "execution_count": 281,
     "metadata": {},
     "output_type": "execute_result"
    },
    {
     "data": {
      "text/plain": [
       "0.315"
      ]
     },
     "execution_count": 281,
     "metadata": {},
     "output_type": "execute_result"
    }
   ],
   "source": [
    "final_pred[start_hole+n_forecast]\n",
    "true_vals[start_hole+n_forecast]"
   ]
  },
  {
   "cell_type": "code",
   "execution_count": 34,
   "metadata": {},
   "outputs": [
    {
     "name": "stdout",
     "output_type": "stream",
     "text": [
      "<class 'str'>\n",
      "<class 'str'>\n"
     ]
    }
   ],
   "source": [
    "print(type('hello'))\n",
    "a = 'hello'\n",
    "print(type(a))"
   ]
  },
  {
   "cell_type": "code",
   "execution_count": 27,
   "metadata": {},
   "outputs": [
    {
     "data": {
      "text/plain": [
       "'10hello'"
      ]
     },
     "execution_count": 27,
     "metadata": {},
     "output_type": "execute_result"
    },
    {
     "data": {
      "text/plain": [
       "'10htw'"
      ]
     },
     "execution_count": 27,
     "metadata": {},
     "output_type": "execute_result"
    },
    {
     "data": {
      "text/plain": [
       "'10ERR_LF'"
      ]
     },
     "execution_count": 27,
     "metadata": {},
     "output_type": "execute_result"
    },
    {
     "data": {
      "text/plain": [
       "'10err_VLF'"
      ]
     },
     "execution_count": 27,
     "metadata": {},
     "output_type": "execute_result"
    },
    {
     "data": {
      "text/plain": [
       "'hellohello'"
      ]
     },
     "execution_count": 27,
     "metadata": {},
     "output_type": "execute_result"
    }
   ],
   "source": [
    "n = 10\n",
    "hole = str(n)\n",
    "\n",
    "hole + 'hello'\n",
    "hole + 'htw'\n",
    "hole + 'ERR_LF'\n",
    "\n",
    "hole + 'err_VLF'\n",
    "\n",
    "'hello' + 'hello'"
   ]
  },
  {
   "cell_type": "code",
   "execution_count": 36,
   "metadata": {},
   "outputs": [],
   "source": [
    "res_df = pd.read_csv('/Users/2924467/Documents/PhD-main/Code/Physionet/x002_POLAR.csv',sep=\",\")\n",
    "idx = res_df.loc[res_df['[Params]']=='[HRData]'].index[-1]\n",
    "idx+=1\n",
    "\n",
    "physionet = res_df.iloc[idx:-1].astype(int).values\n",
    "physionet = (physionet.reshape(-1))/1000\n"
   ]
  },
  {
   "cell_type": "code",
   "execution_count": 37,
   "metadata": {},
   "outputs": [
    {
     "data": {
      "text/plain": [
       "array([8.110000e-01, 1.622000e+00, 2.723000e+00, ..., 2.251454e+03,\n",
       "       2.251826e+03, 2.252201e+03])"
      ]
     },
     "execution_count": 37,
     "metadata": {},
     "output_type": "execute_result"
    }
   ],
   "source": [
    "time = np.cumsum(physionet)\n",
    "time"
   ]
  },
  {
   "cell_type": "code",
   "execution_count": 20,
   "metadata": {},
   "outputs": [
    {
     "data": {
      "text/plain": [
       "array([6.130000e-01, 1.217000e+00, 1.827000e+00, ..., 3.308786e+03,\n",
       "       3.309365e+03, 3.309947e+03])"
      ]
     },
     "execution_count": 20,
     "metadata": {},
     "output_type": "execute_result"
    }
   ],
   "source": [
    "time"
   ]
  },
  {
   "cell_type": "code",
   "execution_count": 34,
   "metadata": {},
   "outputs": [
    {
     "data": {
      "text/plain": [
       "array([    66,    210,    354, ..., 574750, 574908, 575069])"
      ]
     },
     "execution_count": 34,
     "metadata": {},
     "output_type": "execute_result"
    },
    {
     "data": {
      "text/plain": [
       "array([  9730, 184603, 187953, 364598, 480719])"
      ]
     },
     "execution_count": 34,
     "metadata": {},
     "output_type": "execute_result"
    },
    {
     "data": {
      "text/plain": [
       "array([561348, 561464, 561580, 561694, 561809, 561926, 562045, 562164,\n",
       "       562282, 562400, 562521, 562643, 562766, 562886, 563008, 563133,\n",
       "       563259, 563386, 563512, 563636, 563764, 563893, 564022, 564149,\n",
       "       564277, 564406, 564538, 564668, 564798, 564929, 565061, 565195,\n",
       "       565325, 565458, 565593, 565732, 565871, 566006, 566136, 566267,\n",
       "       566400, 566535, 566670, 566804, 566940, 567073, 567208, 567347,\n",
       "       567486, 567623, 567762, 567902, 568038, 568178, 568320, 568454,\n",
       "       568594, 568739, 568877, 569017, 569159, 569303, 569445, 569591,\n",
       "       569741, 569888, 570031, 570182, 570330, 570474, 570617, 570767,\n",
       "       570913, 571057, 571200, 571349, 571495, 571641, 571791, 571939,\n",
       "       572092, 572250, 572411, 572575, 572731, 572884, 573037, 573184,\n",
       "       573333, 573484, 573635, 573793, 573952, 574106, 574263, 574424,\n",
       "       574589, 574750, 574908, 575069])"
      ]
     },
     "execution_count": 34,
     "metadata": {},
     "output_type": "execute_result"
    }
   ],
   "source": [
    "import wfdb as wf\n",
    "file = '/Users/2924467/Documents/PhD-main/Code/Physionet/x001'\n",
    "\n",
    "atr = wf.rdann(file,'atr')\n",
    "aux = wf.rdann(file,'aux')\n",
    "\n",
    "samples = atr.sample\n",
    "samples\n",
    "\n",
    "aux.sample\n",
    "\n",
    "samples[-100:]\n"
   ]
  },
  {
   "cell_type": "code",
   "execution_count": 43,
   "metadata": {},
   "outputs": [
    {
     "data": {
      "text/plain": [
       "[<matplotlib.lines.Line2D at 0x2a1c59550>]"
      ]
     },
     "execution_count": 43,
     "metadata": {},
     "output_type": "execute_result"
    },
    {
     "data": {
      "image/png": "[encoded data removed]",
      "text/plain": [
       "<Figure size 640x480 with 1 Axes>"
      ]
     },
     "metadata": {},
     "output_type": "display_data"
    }
   ],
   "source": [
    "a = np.cumsum(physionet)\n",
    "plt.plot(a[3000:],physionet[3000:])"
   ]
  },
  {
   "cell_type": "code",
   "execution_count": 33,
   "metadata": {},
   "outputs": [
    {
     "data": {
      "text/plain": [
       "198"
      ]
     },
     "execution_count": 33,
     "metadata": {},
     "output_type": "execute_result"
    },
    {
     "data": {
      "text/plain": [
       "[<matplotlib.lines.Line2D at 0x2a1984130>]"
      ]
     },
     "execution_count": 33,
     "metadata": {},
     "output_type": "execute_result"
    },
    {
     "data": {
      "image/png": "[encoded data removed]",
      "text/plain": [
       "<Figure size 640x480 with 1 Axes>"
      ]
     },
     "metadata": {},
     "output_type": "display_data"
    }
   ],
   "source": [
    "a = np.cumsum(physionet)\n",
    "b = np.where((a>3200))\n",
    "\n",
    "len(a[b])\n",
    "\n",
    "#physionet[b]\n",
    "#plt.plot(a[b],physionet[b])\n",
    "plt.plot(a[b],physionet[b])"
   ]
  },
  {
   "cell_type": "code",
   "execution_count": 116,
   "metadata": {},
   "outputs": [
    {
     "data": {
      "text/plain": [
       "[<matplotlib.lines.Line2D at 0x2e280c430>]"
      ]
     },
     "execution_count": 116,
     "metadata": {},
     "output_type": "execute_result"
    },
    {
     "data": {
      "image/png": "[encoded data removed]",
      "text/plain": [
       "<Figure size 432x288 with 1 Axes>"
      ]
     },
     "metadata": {
      "needs_background": "light"
     },
     "output_type": "display_data"
    }
   ],
   "source": [
    "plt.plot(physionet)"
   ]
  },
  {
   "cell_type": "code",
   "execution_count": 3,
   "metadata": {},
   "outputs": [],
   "source": [
    "file = '/Users/2924467/Documents/PhD-main/Code/Physionet/x001_FAROS.edf'\n"
   ]
  },
  {
   "cell_type": "code",
   "execution_count": 2,
   "metadata": {},
   "outputs": [],
   "source": [
    "import pyedflib"
   ]
  },
  {
   "cell_type": "code",
   "execution_count": 4,
   "metadata": {},
   "outputs": [],
   "source": [
    "f = pyedflib.EdfReader(file)"
   ]
  },
  {
   "cell_type": "code",
   "execution_count": 38,
   "metadata": {},
   "outputs": [
    {
     "data": {
      "text/plain": [
       "{'technician': '',\n",
       " 'recording_additional': '',\n",
       " 'patientname': '',\n",
       " 'patient_additional': '',\n",
       " 'patientcode': '',\n",
       " 'equipment': '',\n",
       " 'admincode': '',\n",
       " 'gender': '',\n",
       " 'startdate': datetime.datetime(2001, 1, 1, 0, 0),\n",
       " 'birthdate': ''}"
      ]
     },
     "execution_count": 38,
     "metadata": {},
     "output_type": "execute_result"
    }
   ],
   "source": [
    "f.getHeader()\n"
   ]
  },
  {
   "cell_type": "code",
   "execution_count": 32,
   "metadata": {},
   "outputs": [
    {
     "data": {
      "text/plain": [
       "3309947"
      ]
     },
     "execution_count": 32,
     "metadata": {},
     "output_type": "execute_result"
    }
   ],
   "source": [
    "sum(physionet)"
   ]
  },
  {
   "cell_type": "code",
   "execution_count": 43,
   "metadata": {},
   "outputs": [
    {
     "data": {
      "text/plain": [
       "1227603"
      ]
     },
     "execution_count": 43,
     "metadata": {},
     "output_type": "execute_result"
    }
   ],
   "source": [
    "sum(samples)"
   ]
  },
  {
   "cell_type": "code",
   "execution_count": null,
   "metadata": {},
   "outputs": [],
   "source": [
    "6"
   ]
  }
 ],
 "metadata": {
  "kernelspec": {
   "display_name": "Python 3",
   "language": "python",
   "name": "python3"
  },
  "language_info": {
   "codemirror_mode": {
    "name": "ipython",
    "version": 3
   },
   "file_extension": ".py",
   "mimetype": "text/x-python",
   "name": "python",
   "nbconvert_exporter": "python",
   "pygments_lexer": "ipython3",
   "version": "3.9.7"
  },
  "vscode": {
   "interpreter": {
    "hash": "8158b3ce3d281913ae478ef4c1be93fea11e99d7cf4651b7388fb36667c146cf"
   }
  }
 },
 "nbformat": 4,
 "nbformat_minor": 2
}
